{
 "cells": [
  {
   "cell_type": "markdown",
   "id": "1a8f72ba",
   "metadata": {},
   "source": [
    "<div align=\"center\" style=\" font-size: 80%; text-align: center; margin: 0 auto\">\n",
    "<img src=\"https://raw.githubusercontent.com/Explore-AI/Pictures/master/Python-Notebook-Banners/Exercise.png\"  style=\"display: block; margin-left: auto; margin-right: auto;\";/>\n",
    "</div>"
   ]
  },
  {
   "cell_type": "markdown",
   "id": "f662d169",
   "metadata": {},
   "source": [
    "# Exercise: Tuples\n",
    "© ExploreAI Academy"
   ]
  },
  {
   "cell_type": "markdown",
   "id": "3fffe403",
   "metadata": {},
   "source": [
    "In this exercise, we are going to solve problems involving tuples."
   ]
  },
  {
   "cell_type": "markdown",
   "id": "2d230d14",
   "metadata": {
    "tags": []
   },
   "source": [
    "## Learning objectives\n",
    "\n",
    "- Create, concatenate, and slice tuples.\n",
    "- Make use of tuple methods.\n",
    "- Unpack a tuple."
   ]
  },
  {
   "cell_type": "markdown",
   "id": "6d305bd2",
   "metadata": {},
   "source": [
    "## Exercises"
   ]
  },
  {
   "cell_type": "markdown",
   "id": "5a0b7683",
   "metadata": {
    "tags": []
   },
   "source": [
    "### Exercise 1\n",
    "\n",
    "1. Create a tuple named `tree_tuple` containing three elements: `8`, `'apple'`, and `'Granny Smith'`.\n"
   ]
  },
  {
   "cell_type": "code",
   "id": "ca40207e",
   "metadata": {
    "vscode": {
     "languageId": "plaintext"
    },
    "ExecuteTime": {
     "end_time": "2024-09-18T20:26:33.859132Z",
     "start_time": "2024-09-18T20:26:33.842769Z"
    }
   },
   "source": [
    "# insert your code here \n",
    "tree_tuple = (8, 'apple', 'Granny Smith')\n",
    "print(tree_tuple)\n",
    "print(type(tree_tuple))"
   ],
   "outputs": [
    {
     "name": "stdout",
     "output_type": "stream",
     "text": [
      "(8, 'apple', 'Granny Smith')\n",
      "<class 'tuple'>\n"
     ]
    }
   ],
   "execution_count": 24
  },
  {
   "cell_type": "markdown",
   "id": "5f37ca4c",
   "metadata": {},
   "source": [
    "Note: We can use the `type()` function to check that `tree_tuple` is, in fact, a tuple."
   ]
  },
  {
   "cell_type": "markdown",
   "id": "fb6d5acd",
   "metadata": {},
   "source": [
    "<br>\n",
    "\n",
    "2. Find the length of the tuple.\n"
   ]
  },
  {
   "cell_type": "code",
   "id": "0b5ccea5",
   "metadata": {
    "ExecuteTime": {
     "end_time": "2024-09-18T20:26:34.155871Z",
     "start_time": "2024-09-18T20:26:34.143146Z"
    }
   },
   "source": [
    "# insert your code here \n",
    "length = len(tree_tuple)\n",
    "print(length)"
   ],
   "outputs": [
    {
     "name": "stdout",
     "output_type": "stream",
     "text": [
      "3\n"
     ]
    }
   ],
   "execution_count": 25
  },
  {
   "cell_type": "markdown",
   "id": "83911c8e",
   "metadata": {},
   "source": [
    "<br>\n",
    "\n",
    "3. Access the second element, `'apple'`, in the `tree_tuple` using an index and assign the value to a variable called `fruit`. Print the variable. "
   ]
  },
  {
   "cell_type": "code",
   "id": "52f5bc48",
   "metadata": {
    "ExecuteTime": {
     "end_time": "2024-09-18T20:26:34.211346Z",
     "start_time": "2024-09-18T20:26:34.200027Z"
    }
   },
   "source": [
    "# insert your code here \n",
    "fruit = tree_tuple[1]\n",
    "print(fruit)\n"
   ],
   "outputs": [
    {
     "name": "stdout",
     "output_type": "stream",
     "text": [
      "apple\n"
     ]
    }
   ],
   "execution_count": 26
  },
  {
   "cell_type": "markdown",
   "id": "ab6f589c",
   "metadata": {},
   "source": [
    "<br>\n",
    "\n",
    "4. Attempt to change the value of `'apple'` in `tree_tuple` to `'pear'` using assignment.\n"
   ]
  },
  {
   "cell_type": "code",
   "id": "0eb3a78f",
   "metadata": {
    "ExecuteTime": {
     "end_time": "2024-09-18T20:26:34.338178Z",
     "start_time": "2024-09-18T20:26:34.327763Z"
    }
   },
   "source": [
    "# insert your code here \n",
    "\n"
   ],
   "outputs": [],
   "execution_count": 27
  },
  {
   "cell_type": "markdown",
   "id": "ed3af8cf",
   "metadata": {},
   "source": [
    " If you got an error, it's exactly what should happen! **Tuples are immutable** and we cannot alter their contents after creation.\n",
    "   \n",
    " "
   ]
  },
  {
   "cell_type": "markdown",
   "id": "9d80cde9",
   "metadata": {},
   "source": [
    "<br>\n",
    "\n",
    "5. Create a new tuple called `text_only` and place the last two elements of `tree_tuple` into it."
   ]
  },
  {
   "cell_type": "code",
   "id": "21fbb221",
   "metadata": {
    "ExecuteTime": {
     "end_time": "2024-09-18T20:26:34.393013Z",
     "start_time": "2024-09-18T20:26:34.381576Z"
    }
   },
   "source": [
    "# insert your code here \n",
    "text_only = tree_tuple[-2:]\n",
    "print(text_only)\n"
   ],
   "outputs": [
    {
     "name": "stdout",
     "output_type": "stream",
     "text": [
      "('apple', 'Granny Smith')\n"
     ]
    }
   ],
   "execution_count": 28
  },
  {
   "cell_type": "markdown",
   "id": "5e148cac",
   "metadata": {},
   "source": [
    "<br>\n",
    "\n",
    "### Exercise 2\n",
    "\n",
    "1. Create two tuples: `fruit_summer` and `fruit_winter`, with elements (`'peach'`, `'apricot'`, `'plum'`) and (`'lemon'`, `'orange'`, `'grapefruit'`), respectively. Print the tuples to screen in the same print statement.\n"
   ]
  },
  {
   "cell_type": "code",
   "id": "6aad0f85",
   "metadata": {
    "vscode": {
     "languageId": "plaintext"
    },
    "ExecuteTime": {
     "end_time": "2024-09-18T20:26:34.487190Z",
     "start_time": "2024-09-18T20:26:34.465557Z"
    }
   },
   "source": [
    "# insert your code here \n",
    "fruit_summer, fruit_winter = ('peach', 'apricot', 'plum'), ('lemon', 'orange', 'grapefruit')\n",
    "print(fruit_summer, fruit_winter)"
   ],
   "outputs": [
    {
     "name": "stdout",
     "output_type": "stream",
     "text": [
      "('peach', 'apricot', 'plum') ('lemon', 'orange', 'grapefruit')\n"
     ]
    }
   ],
   "execution_count": 29
  },
  {
   "cell_type": "markdown",
   "id": "7baad7aa",
   "metadata": {},
   "source": [
    "<br>\n",
    "\n",
    "2. Combine these following two tuples, `fruit_summer` and `fruit_winter`, to form a new tuple, `all_fruit`. Print the new tuple to the screen."
   ]
  },
  {
   "cell_type": "code",
   "id": "7dd8dce1",
   "metadata": {
    "ExecuteTime": {
     "end_time": "2024-09-18T20:26:34.528757Z",
     "start_time": "2024-09-18T20:26:34.518474Z"
    }
   },
   "source": [
    "# insert your code here \n",
    "all_fruits = fruit_summer + fruit_winter\n",
    "print(all_fruits)"
   ],
   "outputs": [
    {
     "name": "stdout",
     "output_type": "stream",
     "text": [
      "('peach', 'apricot', 'plum', 'lemon', 'orange', 'grapefruit')\n"
     ]
    }
   ],
   "execution_count": 30
  },
  {
   "cell_type": "markdown",
   "id": "607ed006",
   "metadata": {},
   "source": [
    "<br>\n",
    "\n",
    "3. Confirm how many times the element `'peach'` appears in `all_fruit`."
   ]
  },
  {
   "cell_type": "code",
   "id": "5fa8890d",
   "metadata": {
    "ExecuteTime": {
     "end_time": "2024-09-18T20:26:34.608178Z",
     "start_time": "2024-09-18T20:26:34.596828Z"
    }
   },
   "source": [
    "# insert your code here \n",
    "peach_count = all_fruits.count('peach')\n",
    "print(peach_count)"
   ],
   "outputs": [
    {
     "name": "stdout",
     "output_type": "stream",
     "text": [
      "1\n"
     ]
    }
   ],
   "execution_count": 31
  },
  {
   "cell_type": "markdown",
   "id": "616c87fe",
   "metadata": {},
   "source": [
    "<br>\n",
    "\n",
    "4. Suppose we have the `combined_info` tuple shown in the block of code below, containing three elements – the colour of the fruit, the age of the tree, and the type of tree. We'd however like to work with these elements individually and need to create variables (colour, age, tree_type) for each of the elements in the tuple.  "
   ]
  },
  {
   "cell_type": "code",
   "id": "ae5c21c1",
   "metadata": {
    "ExecuteTime": {
     "end_time": "2024-09-18T20:26:34.666526Z",
     "start_time": "2024-09-18T20:26:34.655083Z"
    }
   },
   "source": [
    "# combined_info tuple\n",
    "combined_info = ('yellow', 5, 'lemon')\n",
    "\n",
    "# insert your code here \n",
    "colour, age, tree_type = combined_info\n",
    "print(colour, age, tree_type)"
   ],
   "outputs": [
    {
     "name": "stdout",
     "output_type": "stream",
     "text": [
      "yellow 5 lemon\n"
     ]
    }
   ],
   "execution_count": 32
  },
  {
   "cell_type": "markdown",
   "id": "68a84035",
   "metadata": {},
   "source": [
    "Did you use an index to assign the values to variables? If so, also take a look at the solution provided later in this notebook for a fast way of assigning tuple elements to variables! "
   ]
  },
  {
   "cell_type": "markdown",
   "id": "fe04494e",
   "metadata": {},
   "source": [
    "<br>\n",
    "\n",
    "## Solutions"
   ]
  },
  {
   "cell_type": "markdown",
   "id": "6c41349e",
   "metadata": {},
   "source": [
    "### Exercise 1\n",
    "\n",
    "1. Create a tuple named `tree_tuple` containing three elements: `8`, `'apple'`, and `'Granny Smith'`.\n",
    "\n",
    "In order to create our tuple, we enclose the elements in **round brackets ()** and assign it to our variable."
   ]
  },
  {
   "cell_type": "code",
   "id": "8b8b08f6",
   "metadata": {
    "vscode": {
     "languageId": "plaintext"
    },
    "ExecuteTime": {
     "end_time": "2024-09-18T20:26:34.751366Z",
     "start_time": "2024-09-18T20:26:34.731646Z"
    }
   },
   "source": [
    "# assign value to the tree_tuple\n",
    "tree_tuple = (8, 'apple', 'Granny Smith')    \n",
    "\n",
    "# see what it looks like printed\n",
    "print(tree_tuple)\n"
   ],
   "outputs": [
    {
     "name": "stdout",
     "output_type": "stream",
     "text": [
      "(8, 'apple', 'Granny Smith')\n"
     ]
    }
   ],
   "execution_count": 33
  },
  {
   "cell_type": "code",
   "id": "3e3b761d",
   "metadata": {
    "ExecuteTime": {
     "end_time": "2024-09-18T20:26:34.794150Z",
     "start_time": "2024-09-18T20:26:34.781555Z"
    }
   },
   "source": [
    "# confirm that we have created a tuple using the `type()` function\n",
    "type(tree_tuple)"
   ],
   "outputs": [
    {
     "data": {
      "text/plain": [
       "tuple"
      ]
     },
     "execution_count": 34,
     "metadata": {},
     "output_type": "execute_result"
    }
   ],
   "execution_count": 34
  },
  {
   "cell_type": "markdown",
   "id": "24ee3fd8",
   "metadata": {},
   "source": [
    "<br>\n",
    "\n",
    "2. Find the length of the tuple.\n",
    "\n",
    "We can use one of the built-in functions Python provides, `len()`, to determine the number of elements in the tuple. "
   ]
  },
  {
   "cell_type": "code",
   "id": "8efe03f8",
   "metadata": {
    "ExecuteTime": {
     "end_time": "2024-09-18T20:26:34.887365Z",
     "start_time": "2024-09-18T20:26:34.866186Z"
    }
   },
   "source": [
    "len(tree_tuple)\n"
   ],
   "outputs": [
    {
     "data": {
      "text/plain": [
       "3"
      ]
     },
     "execution_count": 35,
     "metadata": {},
     "output_type": "execute_result"
    }
   ],
   "execution_count": 35
  },
  {
   "cell_type": "markdown",
   "id": "6ca8d7ce",
   "metadata": {},
   "source": [
    "<br>\n",
    "\n",
    "3. Access the second element, `'apple'`, in the `tree_tuple` using an index and assign the value to a variable called `fruit`. Print the variable. \n",
    "\n",
    "The index for a tuple starts at 0, meaning that in order to access the 2nd element, we should refer to position 1 in the square brackets."
   ]
  },
  {
   "cell_type": "code",
   "id": "02f24ec0",
   "metadata": {
    "ExecuteTime": {
     "end_time": "2024-09-18T20:26:34.928783Z",
     "start_time": "2024-09-18T20:26:34.918655Z"
    }
   },
   "source": [
    "fruit = tree_tuple[1]\n",
    "print(fruit)"
   ],
   "outputs": [
    {
     "name": "stdout",
     "output_type": "stream",
     "text": [
      "apple\n"
     ]
    }
   ],
   "execution_count": 36
  },
  {
   "cell_type": "markdown",
   "id": "2aca53ff",
   "metadata": {},
   "source": [
    "<br>\n",
    "\n",
    "4. Attempt to change the value of `'apple'` in `tree_tuple` to `'pear'` using assignment.\n",
    "\n",
    "If tuples were mutable, we would be able to assign a value to an index. However, as we can see in the error message below, **tuples do not support item assignment** because they are **immutable**. The only way to change the values in a tuple is to reassign all the values to the variable."
   ]
  },
  {
   "cell_type": "code",
   "id": "2def0376",
   "metadata": {
    "ExecuteTime": {
     "end_time": "2024-09-18T20:26:35.048566Z",
     "start_time": "2024-09-18T20:26:35.012991Z"
    }
   },
   "source": [
    "tree_tuple[1] = 'pear'"
   ],
   "outputs": [
    {
     "ename": "TypeError",
     "evalue": "'tuple' object does not support item assignment",
     "output_type": "error",
     "traceback": [
      "\u001B[1;31m---------------------------------------------------------------------------\u001B[0m",
      "\u001B[1;31mTypeError\u001B[0m                                 Traceback (most recent call last)",
      "Cell \u001B[1;32mIn[37], line 1\u001B[0m\n\u001B[1;32m----> 1\u001B[0m tree_tuple[\u001B[38;5;241m1\u001B[39m] \u001B[38;5;241m=\u001B[39m \u001B[38;5;124m'\u001B[39m\u001B[38;5;124mpear\u001B[39m\u001B[38;5;124m'\u001B[39m\n",
      "\u001B[1;31mTypeError\u001B[0m: 'tuple' object does not support item assignment"
     ]
    }
   ],
   "execution_count": 37
  },
  {
   "cell_type": "markdown",
   "id": "69d06228",
   "metadata": {},
   "source": [
    "<br>\n",
    "\n",
    "5. Create a new tuple called `text_only` and place the last two elements of `tree_tuple` into it.\n",
    "\n",
    "Remember that the **first element** we want to include has an **index value of 1**, and as such, our index slice starts there. \n",
    "\n",
    "An easy way to check whether we sliced correctly is by subtracting the first part of our slice from the second `(3 minus 1)`, which is equal to two elements in the new tuple. "
   ]
  },
  {
   "cell_type": "code",
   "id": "cf49efda",
   "metadata": {
    "ExecuteTime": {
     "end_time": "2024-09-18T20:26:35.075886Z",
     "start_time": "2024-09-18T20:26:35.064208Z"
    }
   },
   "source": [
    "# insert your code here \n",
    "text_only = tree_tuple[1:3]\n",
    "print(text_only)\n"
   ],
   "outputs": [
    {
     "name": "stdout",
     "output_type": "stream",
     "text": [
      "('apple', 'Granny Smith')\n"
     ]
    }
   ],
   "execution_count": 38
  },
  {
   "cell_type": "code",
   "id": "43343db6",
   "metadata": {
    "ExecuteTime": {
     "end_time": "2024-09-18T20:26:35.141016Z",
     "start_time": "2024-09-18T20:26:35.122787Z"
    }
   },
   "source": [
    "# Another solution makes use of negative indexing, leaving the second element empty\n",
    "text_only = tree_tuple[-2:]\n",
    "print(text_only)"
   ],
   "outputs": [
    {
     "name": "stdout",
     "output_type": "stream",
     "text": [
      "('apple', 'Granny Smith')\n"
     ]
    }
   ],
   "execution_count": 39
  },
  {
   "cell_type": "markdown",
   "id": "c0b6b1b8",
   "metadata": {},
   "source": [
    "<br>\n",
    "\n",
    "### Exercise 2\n",
    "\n",
    "1. Create two tuples: `fruit_summer` and `fruit_winter`, with elements (`'peach'`, `'apricot'`, `'plum'`) and (`'lemon'`, `'orange'`, `'grapefruit'`), respectively. Print the tuples to screen in the same print statement.\n",
    "\n",
    "We can print tuples in a single print statement to screen, and they'll be printed in the same line.\n"
   ]
  },
  {
   "cell_type": "code",
   "id": "82247504",
   "metadata": {
    "vscode": {
     "languageId": "plaintext"
    },
    "ExecuteTime": {
     "end_time": "2024-09-18T20:26:35.224541Z",
     "start_time": "2024-09-18T20:26:35.213183Z"
    }
   },
   "source": [
    "# assigning the elements to two tuples\n",
    "fruit_summer = ('peach', 'apricot', 'plum')\n",
    "fruit_winter = ('lemon', 'orange', 'grapefruit')\n",
    "\n",
    "print(fruit_summer, fruit_winter)"
   ],
   "outputs": [
    {
     "name": "stdout",
     "output_type": "stream",
     "text": [
      "('peach', 'apricot', 'plum') ('lemon', 'orange', 'grapefruit')\n"
     ]
    }
   ],
   "execution_count": 40
  },
  {
   "cell_type": "markdown",
   "id": "82412a31",
   "metadata": {},
   "source": [
    "<br>\n",
    "\n",
    "2. Combine these following two tuples, `fruit_summer` and `fruit_winter`, to form a new tuple, `all_fruit`. Print the new tuple to the screen.\n",
    "\n",
    "We can concatenate tuples in Python by using the `+` sign. The order in which the tuples are summed determines the order of the elements of the combined tuple. "
   ]
  },
  {
   "cell_type": "code",
   "id": "aa020a80",
   "metadata": {
    "ExecuteTime": {
     "end_time": "2024-09-18T20:26:35.344391Z",
     "start_time": "2024-09-18T20:26:35.333942Z"
    }
   },
   "source": [
    "# concatenate using + \n",
    "all_fruit = fruit_summer + fruit_winter\n",
    "\n",
    "print(all_fruit)"
   ],
   "outputs": [
    {
     "name": "stdout",
     "output_type": "stream",
     "text": [
      "('peach', 'apricot', 'plum', 'lemon', 'orange', 'grapefruit')\n"
     ]
    }
   ],
   "execution_count": 41
  },
  {
   "cell_type": "markdown",
   "id": "e8fef2c3",
   "metadata": {},
   "source": [
    "<br>\n",
    "\n",
    "3. Confirm how many times the element `'plum'` appears in `all_fruit`.\n",
    "\n",
    "We call the `count()` method to state which element we are interested in counting. This is a useful way to determine whether a tuple contains duplicates. "
   ]
  },
  {
   "cell_type": "code",
   "id": "03c4f754",
   "metadata": {
    "ExecuteTime": {
     "end_time": "2024-09-18T20:26:35.425497Z",
     "start_time": "2024-09-18T20:26:35.413498Z"
    }
   },
   "source": [
    "# use count method on all_fruit tuple\n",
    "all_fruit.count('plum')\n"
   ],
   "outputs": [
    {
     "data": {
      "text/plain": [
       "1"
      ]
     },
     "execution_count": 42,
     "metadata": {},
     "output_type": "execute_result"
    }
   ],
   "execution_count": 42
  },
  {
   "cell_type": "markdown",
   "id": "de3a5406",
   "metadata": {},
   "source": [
    "<br>\n",
    "\n",
    "4. Suppose we have the `combined_info` tuple shown in the block of code below, containing three elements – the colour of the fruit, the age of the tree, and the type of tree. We'd however like to work with these elements individually and need to create variables (colour, age, tree_type) for each of the elements in the tuple.  \n",
    "\n"
   ]
  },
  {
   "cell_type": "code",
   "id": "33e49e27",
   "metadata": {
    "ExecuteTime": {
     "end_time": "2024-09-18T20:26:35.535187Z",
     "start_time": "2024-09-18T20:26:35.513610Z"
    }
   },
   "source": [
    "# combined_info tuple\n",
    "combined_info = ('yellow', 5, 'lemon')\n",
    "\n",
    "# insert your code here \n",
    "colour, age, tree_type = combined_info"
   ],
   "outputs": [],
   "execution_count": 43
  },
  {
   "cell_type": "markdown",
   "id": "01f2a9c9",
   "metadata": {},
   "source": [
    "By assigning a tuple directly to the variables in a single line, you can skip repeating assignments and the need to index elements individually. Note that the order determines the assignment. This functionality will be especially useful when dealing with functions."
   ]
  },
  {
   "cell_type": "code",
   "id": "b09b9ba0",
   "metadata": {
    "ExecuteTime": {
     "end_time": "2024-09-18T20:26:35.569199Z",
     "start_time": "2024-09-18T20:26:35.552408Z"
    }
   },
   "source": [
    "print(colour, age, tree_type)"
   ],
   "outputs": [
    {
     "name": "stdout",
     "output_type": "stream",
     "text": [
      "yellow 5 lemon\n"
     ]
    }
   ],
   "execution_count": 44
  },
  {
   "cell_type": "code",
   "id": "e1ef209f",
   "metadata": {
    "ExecuteTime": {
     "end_time": "2024-09-18T20:26:35.633361Z",
     "start_time": "2024-09-18T20:26:35.616096Z"
    }
   },
   "source": [
    "# the alternative, but longer solution\n",
    "colour_index = combined_info[0]\n",
    "age_index = combined_info[1]\n",
    "type_index = combined_info[2]\n",
    "\n",
    "print(colour_index, age_index, type_index)"
   ],
   "outputs": [
    {
     "name": "stdout",
     "output_type": "stream",
     "text": [
      "yellow 5 lemon\n"
     ]
    }
   ],
   "execution_count": 45
  },
  {
   "cell_type": "markdown",
   "id": "e9956efe",
   "metadata": {
    "tags": []
   },
   "source": [
    "<br>\n",
    "\n",
    "## Summary\n",
    "\n",
    "Tuples are simple data structures and are especially useful when storing a **small number of elements** that need to be accessed during the course of a program. Remember to look at the Python documentation on tuples for more information and examples!"
   ]
  },
  {
   "cell_type": "markdown",
   "id": "26fd094b-0fee-46f1-a4b8-73766813c42b",
   "metadata": {
    "tags": []
   },
   "source": [
    "#  \n",
    "\n",
    "<div align=\"center\" style=\" font-size: 80%; text-align: center; margin: 0 auto\">\n",
    "<img src=\"https://raw.githubusercontent.com/Explore-AI/Pictures/master/ExploreAI_logos/EAI_Blue_Dark.png\"  style=\"width:200px\";/>\n",
    "</div>"
   ]
  }
 ],
 "metadata": {
  "kernelspec": {
   "display_name": "Python 3 (ipykernel)",
   "language": "python",
   "name": "python3"
  },
  "language_info": {
   "codemirror_mode": {
    "name": "ipython",
    "version": 3
   },
   "file_extension": ".py",
   "mimetype": "text/x-python",
   "name": "python",
   "nbconvert_exporter": "python",
   "pygments_lexer": "ipython3",
   "version": "3.11.5"
  }
 },
 "nbformat": 4,
 "nbformat_minor": 5
}
