{
 "cells": [
  {
   "attachments": {},
   "cell_type": "markdown",
   "metadata": {},
   "source": [
    "<div align=\"center\" style=\" font-size: 80%; text-align: center; margin: 0 auto\">\n",
    "<img src=\"https://raw.githubusercontent.com/Explore-AI/Pictures/master/Python-Notebook-Banners/Examples.png\"  style=\"display: block; margin-left: auto; margin-right: auto;\";/>\n",
    "</div>"
   ]
  },
  {
   "attachments": {},
   "cell_type": "markdown",
   "metadata": {},
   "source": [
    "# Examples: Recommender systems: Content-based filtering\n",
    "© ExploreAI Academy"
   ]
  },
  {
   "attachments": {},
   "cell_type": "markdown",
   "metadata": {},
   "source": [
    "In this notebook, we will explore the fundamentals of recommendation systems, focusing specifically on content-based filtering techniques. We will delve into the workings of content-based filtering, a method that recommends items similar to those a user has liked or interacted with in the past."
   ]
  },
  {
   "attachments": {},
   "cell_type": "markdown",
   "metadata": {},
   "source": [
    "## Learning Objectives\n",
    "\n",
    "By the end of this notebook, you should be able to:\n",
    "- Understand the purpose and basic operation of a recommender system\n",
    "- Understand the role of similarity metrics utilised in recommender algorithms\n",
    "- Assess the performance of a recommender system\n",
    "- Implement a simple content-based filtering algorithm\n",
    "\n",
    "## Outline\n",
    "\n",
    "This notebook is structured as follows:\n",
    "- The importance of making recommendations;\n",
    "- Measuring similarity; \n",
    "- Assessing the performance of a recommender system; \n",
    "- The intuition behind content-based filtering; and \n",
    "- Implementation of content-based filtering"
   ]
  },
  {
   "attachments": {},
   "cell_type": "markdown",
   "metadata": {},
   "source": [
    "## The importance of making recommendations\n",
    "\n",
    "<br></br>\n",
    "\n",
    "<div align=\"center\" style=\"width: 600px; font-size: 80%; text-align: center; margin: 0 auto\">\n",
    "<img src=\"https://raw.githubusercontent.com/Explore-AI/Pictures/master/Long_tail_problem.jpg\"\n",
    "     alt=\"The Long Tail Problem\"\n",
    "     style=\"float: center; padding-bottom=0.5em\"\n",
    "     width=600px/>\n",
    "The Long tail problem is often experienced by content distributors. \n",
    "</div>\n",
    "\n",
    "\n",
    "We exist in a technological era where there is far too much content (movies, news articles, shopping products, websites, etc.) for individual items to receive our consideration. For example, consider that the average Google search returns well over 1 million results, yet when was the last time you looked at the websites past the [first page](https://backlinko.com/google-ctr-stats)?  This fact is often illustrated by what is known as the \"long tail problem\" (represented in the figure above), where tracking user engagement with items in a large content repository sees a small number of these items receiving a disproportionate amount of attention. In contrast, the majority of items remain unexplored. The truth is that a user doesn't know of each item that exists, nor has the time to inspect each item even if it were known. \n",
    "\n",
    "In light of the above challenge, a natural question for service providers becomes: \"How do I ensure that an individual is shown a manageable portion of the total content I have available while also ensuring that this content is relevant to and desired by them?\" This question turns out to be extremely valuable, both economically and within society. Luckily for us, decades of hard work by very intelligent individuals have largely answered this question through a collection of algorithms and computing techniques known as recommender systems.\n",
    "\n",
    "\n",
    "Simply put, a recommender system functions by predicting a user’s rating or preference for an item. This allows a service provider to build up a catalogue of items it believes the user will want to examine, thereby increasing their engagement with the service and allowing a wider array of content to be considered.\n",
    "\n",
    "\n",
    "Within this train, we will review some fundamental concepts upon which recommender systems operate. We will also learn how to implement one of the two dominant methods currently studied in relation to recommender systems, referred to as content-based filtering. \n",
    "\n",
    "Let's dive in!  "
   ]
  },
  {
   "attachments": {},
   "cell_type": "markdown",
   "metadata": {},
   "source": [
    "### Terminology: Users, items, and ratings  \n",
    "\n",
    "The first thing we need to do when discussing recommender systems is to clarify some terminology. A recommender system has two primary sets of entities: the users and the items.\n",
    "\n",
    "As we’d expect, **an item is consumed**. It can be watched, read, bought, clicked on, or considered. Items are passive, meaning that their properties or nature do not change.\n",
    "\n",
    "**Users are individuals who interact with the items in a recommendation system.  Users create ratings for specific items within a recommendation system through their actions.** Ratings can be either *explicit* (such as giving your favourite movie 5/5 stars on a review) or *implicit* (such as watching a movie; even though you haven't rated it directly, by viewing something, you indicate that you have some interest in it). Within this train, we only consider explicit ratings, but many of the principles covered here will also apply to implicit ratings.\n",
    "\n",
    "A given user can have ratings for many items in the system or none at all. Generally, as a user continues to interact with a recommender system, it can capture her preferences and ratings for items more easily."
   ]
  },
  {
   "attachments": {},
   "cell_type": "markdown",
   "metadata": {},
   "source": [
    "## Measuring similarity \n",
    "\n",
    "<br></br>\n",
    "\n",
    "<div align=\"center\" style=\"width: 600px; font-size: 80%; text-align: center; margin: 0 auto\">\n",
    "<img src=\"https://raw.githubusercontent.com/Explore-AI/Pictures/master/Cosine_similarity.jpg\"\n",
    "     alt=\"Cosine Similarity \"\n",
    "     style=\"float: center; padding-bottom=0.5em\"\n",
    "     width=600px/>\n",
    "Measuring the similarity between the ratings of two users (A) and (B) for the books 'Harry Potter and the Philosopher's Stone' and 'The Diary of a Young Girl', using the Cosine similarity metric.  \n",
    "</div>\n",
    "\n",
    "\n",
    "Having learnt about the entities which exist within recommender systems, we may wonder how they function. While this is something we’ll learn throughout this entire train, one fundamental principle we need to understand is that recommender systems are built up by utilising the _existing relations_ between items and users. As such, these systems always require a mechanism to measure how related or _similar_ a user is to another user or an item is to another item. \n",
    "\n",
    "We accomplish this similarity measurement through, you guessed it, a _similarity metric_.  \n",
    "\n",
    "Generally speaking, a similarity metric can be considered the inverse of a distance measure. If two things are considered very similar, they should be assigned a high similarity value (close to 1), while dissimilar items should receive a low similarity value (close to zero).  Other [important properties](https://online.stat.psu.edu/stat508/lesson/1b/1b.2/1b.2.1) include:\n",
    " - (Symmetry) $Sim(A,B) = Sim(B,A)$ \n",
    " - (Identity) $Sim(A,A) = 1$\n",
    " - (Uniqueness) $Sim(A,B) = 1 \\leftrightarrow A = B$\n",
    " \n",
    "While there are many similarity metrics to choose from when building a recommender system (and more than one can certainly be used simultaneously), a popular choice is the **Cosine similarity**. We won't go into the fundamental trig here (we hope you remember this from high school), but recall that as an angle becomes smaller (approaching $0^o$), the value of its cosine increases. Conversely, as the angle increases, the cosine value decreases. It turns out that this behaviour makes the cosine of the angle between two p-dimensional vectors desirable as a [similarity metric](https://en.wikipedia.org/wiki/Cosine_similarity) which can easily be computed.\n",
    "\n",
    "Using the figure above to help guide our understanding, the Cosine similarity between two p-dimensional vectors ${A}$ and $B$ can be given as:\n",
    "\n",
    "$$ \\begin{align}\n",
    "Sim(A,B)  &= \\frac{A \\cdot B}{||A|| \\times ||B||} \\\\ \\\\\n",
    "& = \\frac{\\sum_{i=1}^{p}A_{i}B_{i}}{\\sqrt{{\\sum_{i=1}^{p}A_{i}^2}} \\sqrt{\\sum_{i=1}^{p}B_{i}^2}}, \\\\\n",
    "\\end{align} $$ \n",
    "  \n",
    "\n",
    "Let’s work out the cosine similarity using the above example to make things a little more concrete. Here, each vector represents the ratings given by one of two *users*, $A$ and $B$, who have each rated two books (rating#1 $ \\rightarrow r_1$, and rating#2 $ \\rightarrow r_2$). To work out how similar these two users are based on their supplied ratings, we can use the Cosine similarity definition as follows:   \n",
    "\n",
    "\n",
    "$$ \\begin{align}\n",
    "Sim(A,B)  & = \\frac{(A_{r1} \\times B_{r1})+(A_{r2} \\times B_{r2})}{\\sqrt{A_{r1}^2 + A_{r2}^2} \\times \\sqrt{B_{r1}^2 + B_{r2}^2}} \\\\ \\\\\n",
    "& = \\frac{(3 \\times 5) + (4 \\times 2)}{\\sqrt{9 + 16} \\times \\sqrt{25 + 4}} \\\\ \\\\\n",
    "& = \\frac{23}{26.93} \\\\ \\\\\n",
    "& = 0.854\n",
    "\\end{align} $$\n",
    "\n",
    "It would be a pain to work this out manually each time! Thankfully, we can obtain the same result using the `cosine_similarity` function provided to us in `sklearn`. \n",
    "\n",
    "As usual, before we can go ahead and use this function, we need to import the libraries that we will need.  "
   ]
  },
  {
   "cell_type": "code",
   "execution_count": null,
   "metadata": {},
   "outputs": [],
   "source": [
    "# Import our regular old heroes \n",
    "import numpy as np\n",
    "import pandas as pd\n",
    "import scipy as sp # <-- The sister of Numpy, used in our code for numerical efficiency. \n",
    "import matplotlib.pyplot as plt\n",
    "import seaborn as sns\n",
    "\n",
    "# Entity featurization and similarity computation\n",
    "from sklearn.metrics.pairwise import cosine_similarity \n",
    "from sklearn.feature_extraction.text import TfidfVectorizer\n",
    "\n",
    "# Libraries used during sorting procedures.\n",
    "import operator # <-- Convenient item retrieval during iteration \n",
    "import heapq # <-- Efficient sorting of large lists\n",
    "\n",
    "# Imported for our sanity\n",
    "import warnings\n",
    "warnings.filterwarnings('ignore')"
   ]
  },
  {
   "cell_type": "code",
   "execution_count": null,
   "metadata": {},
   "outputs": [],
   "source": [
    "A = np.array([[3,4]]) # <-- Rating vector A\n",
    "B = np.array([[5,2]]) # <-- Rating vector B\n",
    "cosine_similarity(A,B) # Sim(A,B)"
   ]
  },
  {
   "cell_type": "markdown",
   "metadata": {},
   "source": [
    "With an understanding of similarity out of the way, let's look at one more important concept before creating our own simple recommender systems - performance measurement!"
   ]
  },
  {
   "attachments": {},
   "cell_type": "markdown",
   "metadata": {},
   "source": [
    "## Assessing the performance of a recommender system\n",
    "\n",
    "One more thing we need to consider before diving into the inner workings of recommender system algorithms is how to evaluate their performance. After all, how can you tell if a recommendation is good if the suggested item is something you've never seen before? \n",
    "\n",
    "One straightforward approach is to use a statistical method such as [A/B testing](https://en.wikipedia.org/wiki/A/B_testing), where two very similar users are shown different recommendations, with user `A` being shown randomly selected items from our catalogue and user `B` being shown recommendations generated by our algorithm. Unfortunately, like other areas of machine learning, this strategy may be too risky/expensive to expose users to a poor recommendation system (or random recommendations!). Instead, in a similar approach to other machine learning fields, we use historical rating data from users to test our systems. As we have seen before, we partition our historical rating data into train and test splits, using train data to help build and tune our recommendation algorithms. In contrast, test data are withheld when performing assessments.\n",
    "In this sense, there are two main variants of metrics which we use to evaluate the predictions made by a recommender system:\n",
    "\n",
    "#### Objective measures\n",
    "\n",
    "Objective performance measures for a recommendation system provide results that do not depend upon personal interpretation to assign success. These measures tend to focus on actual preferences/ratings given by users to items and are compared against ratings/preferences predicted by an algorithm. Common examples of objective measures include:\n",
    "\n",
    "\n",
    "   - **Single-value metrics:** These are quantities we've seen before, such as RMSE and MAE, which measure the error between a known and predicted rating on a continuous scale.\n",
    "    \n",
    "    \n",
    "   - **Catalog-based metrics:** These are measures of performance computed over lists of recommended items generated for a user. They mainly consist of variations surrounding what is known as the *hit rate*, which determines the number of highly rated items appearing in a recommendation list that the user has actually given a high rating to.    \n",
    "   \n",
    " \n",
    " - **Coverage:** This metric is calculated across multiple user recommendation lists and returns the number of users who received at least one high-rated recommendation on their list. \n",
    " \n",
    "#### Subjective measures\n",
    "\n",
    "In contrast to objective performance measures, subjective metrics provide quantitative values that must be interpreted to determine success. These measures typically capture characteristics of recommendations that are not directly related to rating data, but that may nonetheless be very important when a user decides whether or not to follow a suggestion. Two popular measures are:   \n",
    " \n",
    " - **Novelty:** This is a measure of how many underrated items (not to be confused with poorly rated ones) are suggested to a user. As we have already discussed, exposing individuals to lesser-known items in a catalogue is vital to a recommender system’s functioning.\n",
    " \n",
    " \n",
    " - **Diversity:** This measurement evaluates the number of different item categories present in a recommendation list given to a user. \n",
    " \n",
    " \n",
    "We’re done with the background theory for now; let’s go and build something!"
   ]
  },
  {
   "attachments": {},
   "cell_type": "markdown",
   "metadata": {},
   "source": [
    "## Use case: Producing book recommendations \n",
    "\n",
    "To ground our learning in a practical problem, we'll be using the [Goodbooks-10k dataset](http://fastml.com/goodbooks-10k-a-new-dataset-for-book-recommendations/) within this train. \n",
    "\n",
    "[Goodbooks](https://www.goodbooks.io/)  is an online book recommendation service that pairs readers with their next favourite read. Our dataset contains information on 10,000 books from the service’s catalogue, along with ~80,000 reviews generated by site visitors. We’ll use this rich information to try our best to recommend what good books you (or your friends/family) should read next.\n",
    "\n",
    "\n",
    "### Dataset overview: Brief EDA\n",
    "\n",
    "We'll be making use of two main files derived from the dataset$^*$;\n",
    " \n",
    " - **Books_with_tags.csv**: We created this file for the convenience of this train. It contains book_id, title, author, date, etc. data from the original `books.csv` file, along with user tags merged from the `book_tags.csv` and `tags.csv` files. \n",
    " \n",
    " \n",
    " - **Book_ratings.csv**: This is a subset of the `ratings.csv` file, with a field for the book titles added for convenience. This file contains the important mapping between users and item ratings.\n",
    " \n",
    "The full dataset can be found [here](https://www.kaggle.com/zygmunt/goodbooks-10k)."
   ]
  },
  {
   "cell_type": "code",
   "execution_count": null,
   "metadata": {},
   "outputs": [],
   "source": [
    "books = pd.read_csv('https://raw.githubusercontent.com/Explore-AI/Public-Data/master/Data/unsupervised_sprint/books_with_tags.csv')\n",
    "books.head(3)"
   ]
  },
  {
   "cell_type": "code",
   "execution_count": null,
   "metadata": {},
   "outputs": [],
   "source": [
    "print (f'Number of books in dataset: {books.shape[0]}')"
   ]
  },
  {
   "cell_type": "code",
   "execution_count": null,
   "metadata": {},
   "outputs": [],
   "source": [
    "book_ratings = pd.read_csv('https://raw.githubusercontent.com/Explore-AI/Public-Data/master/Data/unsupervised_sprint/book_ratings.csv')\n",
    "book_ratings.head()"
   ]
  },
  {
   "cell_type": "code",
   "execution_count": null,
   "metadata": {},
   "outputs": [],
   "source": [
    "print (f'Number of ratings in dataset: {book_ratings.shape[0]}')"
   ]
  },
  {
   "attachments": {},
   "cell_type": "markdown",
   "metadata": {},
   "source": [
    "Let's look at the distribution of the ratings given by users. Here, we see that readers generally are on the kinder end of the rating spectrum, with a far higher proportion of positive reviews (> 3) being given over negative ones (< 3):"
   ]
  },
  {
   "cell_type": "code",
   "execution_count": null,
   "metadata": {},
   "outputs": [],
   "source": [
    "with sns.axes_style('white'):\n",
    "    g = sns.catplot(data=book_ratings, x=\"rating\", y=None, aspect=2.0, kind='count')\n",
    "    g.set_ylabels(\"Total number of ratings\")\n",
    "print (f'Average rating in dataset: {np.mean(book_ratings[\"rating\"])}')"
   ]
  },
  {
   "attachments": {},
   "cell_type": "markdown",
   "metadata": {},
   "source": [
    "That's enough spelunking through our data. Let’s go ahead and make a recommendation system.\n",
    "\n",
    "The first step is generating recommendations using content-based filtering."
   ]
  },
  {
   "attachments": {},
   "cell_type": "markdown",
   "metadata": {},
   "source": [
    "## Content-based filtering "
   ]
  },
  {
   "cell_type": "markdown",
   "metadata": {},
   "source": [
    "### How it works \n",
    "\n",
    "<br></br>\n",
    "\n",
    "<div align=\"center\" style=\"width: 800px; font-size: 80%; text-align: center; margin: 0 auto\">\n",
    "<img src=\"https://raw.githubusercontent.com/Explore-AI/Pictures/master/Content_filtering.jpg\"\n",
    "     alt=\"Content-based Filtering\"\n",
    "     style=\"float: center; padding-bottom=0.5em\"\n",
    "     width=800px/>\n",
    "A depiction of the decision process used to recommend items within content-based filtering algorithms.  \n",
    "</div>"
   ]
  },
  {
   "attachments": {},
   "cell_type": "markdown",
   "metadata": {},
   "source": [
    "In Content-based filtering, we seek to make recommendations based on **how similar an item's properties or features are to those of other items.**\n",
    "\n",
    "Let's use the image above to help us see how this works. Mpho is an avid reader who has just finished the novel \"The Golden Compass\". Besides the written contents inside this book (item), it has certain attributes or properties which further describe it - such as the author (\"Philip Pullman\"), genre (\"fantasy\"), or target audience (\"young adult\"). These properties are not unique to this novel, as other books also have authors, genres, target audiences, etc. As such, we can compare the properties of different books with the assumption that books which have properties in common (such as author or genre) are similar to one another. We can further **assume that individuals like similar items**. For our example, this means that Mpho, if using content-based filtering to recommend her next book, would have a book such as \"Harry Potter and the Philosopher's Stone\" suggested to her over Anne Frank's \"The Diary of a Young Girl\", as the former novel is far more 'similar' to The Golden Compass.     \n",
    "\n",
    "So let's see how we would implement a system like this in real life."
   ]
  },
  {
   "attachments": {},
   "cell_type": "markdown",
   "metadata": {},
   "source": [
    "### Implementation \n",
    "\n",
    "Let's implement a straightforward content filtering-based recommendation algorithm.\n",
    "\n",
    "To begin, we need to gather the various properties of our items so that we can convert them into meaningful features. Following along from our example above, we're going to use the `tag_name` field for each book as a representation of properties such as genre, time-period, and target audience. We're also going to consider the `authors` field, as individuals often enjoy reading novels written by the same author. \n",
    "\n",
    "We start off by creating a new column in our `books` dataframe called `auth_tags`, which contains the above-motivated contents for each item. We additionally create two pandas series objects to help us translate between book titles and indexes of our dataframe.  "
   ]
  },
  {
   "cell_type": "code",
   "execution_count": null,
   "metadata": {},
   "outputs": [],
   "source": [
    "books['auth_tags'] = (pd.Series(books[['authors', 'tag_name']]\n",
    "                      .fillna('')\n",
    "                      .values.tolist()).str.join(' '))\n",
    "\n",
    "# Convenient indexes to map between book titles and indexes of \n",
    "# the books dataframe\n",
    "titles = books['title']\n",
    "indices = pd.Series(books.index, index=books['title'])"
   ]
  },
  {
   "attachments": {},
   "cell_type": "markdown",
   "metadata": {},
   "source": [
    "We now need a mechanism to convert these textual features into a format that enables us to compute their relative similarities. This will allow us to translate our string-based collection of tags and authors into numerical vectors (see [here](https://en.wikipedia.org/wiki/Tf%E2%80%93idf) for an overview of this process which is very similar to [count-based vectorization](https://youtu.be/W9VtEVBdgnQ))."
   ]
  },
  {
   "cell_type": "code",
   "execution_count": null,
   "metadata": {},
   "outputs": [],
   "source": [
    "tf = TfidfVectorizer(analyzer='word', ngram_range=(1,2),\n",
    "                     min_df=0.0, stop_words='english')\n",
    "\n",
    "# Produce a feature matrix, where each row corresponds to a book,\n",
    "# with TF-IDF features as columns \n",
    "tf_authTags_matrix = tf.fit_transform(books['auth_tags'])"
   ]
  },
  {
   "attachments": {},
   "cell_type": "markdown",
   "metadata": {},
   "source": [
    "We can now compute the similarity between each vector within our matrix. This is done by making use of the `cosine_similarity` function provided to us by `sklearn`."
   ]
  },
  {
   "cell_type": "code",
   "execution_count": null,
   "metadata": {},
   "outputs": [],
   "source": [
    "cosine_sim_authTags = cosine_similarity(tf_authTags_matrix, \n",
    "                                        tf_authTags_matrix)\n",
    "print (cosine_sim_authTags.shape)"
   ]
  },
  {
   "cell_type": "code",
   "execution_count": null,
   "metadata": {},
   "outputs": [],
   "source": [
    "cosine_sim_authTags[:5]"
   ]
  },
  {
   "cell_type": "markdown",
   "metadata": {},
   "source": [
    "The resulting structure is a $10000 \\times 10000$ dense similarity matrix $S^I$, where the value of the entry in the $i^{th}$ row and $j^{th}$ column, $S^I_{i,j}$, corresponds to the similarity of books $i$ and $j$ within our dataset.\n",
    "\n",
    "Using this notation, if $i$ and $j$ are the same number (i.e. all the diagonal entries in $S^I$), then the similarity value is equal to 1 (an item is completely similar to itself).  "
   ]
  },
  {
   "attachments": {},
   "cell_type": "markdown",
   "metadata": {},
   "source": [
    "#### Top-N recommendations\n",
    "\n",
    "With our content similarity matrix computed, we're now ready to make some recommendations! Let's begin by generating a top-N list of books similar to the one which we prompt the system with.    \n",
    "\n",
    "Following along from our earlier algorithmic explanation, we do this by: \n",
    "\n",
    "  1. Select an initial item (book) from which to generate recommendations. \n",
    "  2. Extract all the similarity values between the initial item and each other item in the similarity matrix.\n",
    "  3. Sort the resulting values in descending order. \n",
    "  4. Select the top N similarity values and return the corresponding item details to the user. This is now our simple top-N list.  \n",
    "  \n",
    "We implement this algorithmic process in the function below:"
   ]
  },
  {
   "cell_type": "code",
   "execution_count": null,
   "metadata": {},
   "outputs": [],
   "source": [
    "def content_generate_top_N_recommendations(book_title, N=10):\n",
    "    # Convert the string book title to a numeric index for our \n",
    "    # similarity matrix\n",
    "    b_idx = indices[book_title]\n",
    "    # Extract all similarity values computed with the reference book title\n",
    "    sim_scores = list(enumerate(cosine_sim_authTags[b_idx]))\n",
    "    # Sort the values, keeping a copy of the original index of each value\n",
    "    sim_scores = sorted(sim_scores, key=lambda x: x[1], reverse=True)\n",
    "    # Select the top-N values for recommendation\n",
    "    sim_scores = sim_scores[1:N]\n",
    "    # Collect indexes \n",
    "    book_indices = [i[0] for i in sim_scores]\n",
    "    # Convert the indexes back into titles \n",
    "    return titles.iloc[book_indices]"
   ]
  },
  {
   "cell_type": "markdown",
   "metadata": {},
   "source": [
    "With our function defined, let's test our simple content-based recommender on some sample book titles:"
   ]
  },
  {
   "cell_type": "code",
   "execution_count": null,
   "metadata": {},
   "outputs": [],
   "source": [
    "content_generate_top_N_recommendations(\"The Hobbit\", N=10)"
   ]
  },
  {
   "cell_type": "code",
   "execution_count": null,
   "metadata": {},
   "outputs": [],
   "source": [
    "content_generate_top_N_recommendations(\"Romeo and Juliet\", N=10)"
   ]
  },
  {
   "cell_type": "code",
   "execution_count": null,
   "metadata": {},
   "outputs": [],
   "source": [
    "content_generate_top_N_recommendations(\"The Diary of a Young Girl\", N=10)"
   ]
  },
  {
   "attachments": {},
   "cell_type": "markdown",
   "metadata": {},
   "source": [
    "Having seen the results of these top-N lists, a couple of observations can be made. \n",
    "\n",
    "- First, our recommendations seem to be strongly centred around the author of the reference book. For example,  other works by Tolkien and Shakespeare are highly recommended when using reference searches for \"The Hobbit\" and \"Romeo and Juliet\" respectively. This could be a natural result of the fact that an author's name is far less common in the dataset than other textual features such as genre. As such, books which share an author will be regarded as being far more similar.  \n",
    "\n",
    "\n",
    " - Second, in cases where the reference author has not written multiple book titles, such as Anne Frank (The Diary of a Young Girl), the recommendations produced are more varied and cover multiple titles in the same or similar genres. \n",
    "\n",
    " \n",
    "Based on these observations, we can ask if, in fact, the recommendations for \"The Hobbit\" and \"Romeo and Juliet\" are actually any good. After all, a reader who knows of Tolkien and Shakespeare will often already know of other books these authors have written as well. This is where some of the subjective metrics introduced earlier (such as diversity), can be used to penalize these recommendations and help discover better ones. \n",
    "\n",
    "---\n",
    "Seeing that we were able to produce more varied recommendations when the author didn't write multiple titles, try to alter the above code cells to calculate similarity only using the `tag_name` field.\n",
    "\n",
    "How does this alteration affect the recommendations produced?\n"
   ]
  },
  {
   "attachments": {},
   "cell_type": "markdown",
   "metadata": {},
   "source": [
    "---\n",
    "#### Rating Prediction\n",
    "\n",
    "As motivated previously, in some cases, we may wish to calculate directly what rating a user _would_ give a book that they haven't read yet.\n",
    "\n",
    "We can modify our content-based filtering algorithm to do this in the following manner: \n",
    "\n",
    "   1. Select a reference user from the database and a reference item (book) they have _not_ rated. \n",
    "   2. For the user, gather the similarity values between the reference item and each item the user _has_ rated. \n",
    "   3. Sort the gathered similarity values in descending order. \n",
    "   4. Select the $k$ highest similarity values, which are above a given threshold value, creating a collection $K$. \n",
    "   5. Compute a weighted average rating from these values, which is the sum of the similarity values of each item multiplied by its assigned user rating, divided by the sum of the similarity values. This can be expressed in the formula as:\n",
    "   \n",
    "   $$ \\hat{R}_{ju} = \\frac{\\sum_{i \\in K} s_{ij} \\times r_{iu}}{\\sum_{i \\in K} s_{ij}}   $$\n",
    "   \n",
    "   where $\\hat{R}_{ju}$ is the weighted average computed for the reference item $j$ and reference user $u$, $K$ is the collection of items, $s_{ij}$ is the similarity computed between items $i$ and $j$, and $r_{iu}$ is the known rating user $u$ has given item $i$.\n",
    "   6. We return the weighted average $\\hat{R}_{ju}$ as the prediction for our reference item.\n",
    "   \n",
    "   \n",
    "We implement this algorithmic process in the function below:"
   ]
  },
  {
   "cell_type": "code",
   "execution_count": null,
   "metadata": {},
   "outputs": [],
   "source": [
    "def content_generate_rating_estimate(book_title, user, rating_data, k=20, threshold=0.0):\n",
    "    # Convert the book title to a numeric index for our \n",
    "    # similarity matrix\n",
    "    b_idx = indices[book_title]\n",
    "    neighbors = [] # <-- Stores our collection of similarity values \n",
    "     \n",
    "    # Gather the similarity ratings between each book the user has rated\n",
    "    # and the reference book \n",
    "    for index, row in rating_data[rating_data['user_id']==user].iterrows():\n",
    "        sim = cosine_sim_authTags[b_idx-1, indices[row['title']]-1]\n",
    "        neighbors.append((sim, row['rating']))\n",
    "    # Select the top-N values from our collection\n",
    "    k_neighbors = heapq.nlargest(k, neighbors, key=lambda t: t[0])\n",
    "\n",
    "    # Compute the weighted average using similarity scores and \n",
    "    # user item ratings. \n",
    "    simTotal, weightedSum = 0, 0\n",
    "    for (simScore, rating) in k_neighbors:\n",
    "        # Ensure that similarity ratings are above a given threshold\n",
    "        if (simScore > threshold):\n",
    "            simTotal += simScore\n",
    "            weightedSum += simScore * rating\n",
    "    try:\n",
    "        predictedRating = weightedSum / simTotal\n",
    "    except ZeroDivisionError:\n",
    "        # Cold-start problem - No ratings given by user. \n",
    "        # We use the average rating for the reference item as a proxy in this case \n",
    "        predictedRating = np.mean(rating_data[rating_data['title']==book_title]['rating'])\n",
    "    return predictedRating"
   ]
  },
  {
   "cell_type": "markdown",
   "metadata": {},
   "source": [
    "With our algorithm defined, let's quickly test it out to see some results. \n",
    "\n",
    "To help us get a sense of the relevance and accuracy of these ratings, we select a lucky user (number 314) and consider their historical data: "
   ]
  },
  {
   "cell_type": "code",
   "execution_count": null,
   "metadata": {},
   "outputs": [],
   "source": [
    "# Subset of ratings from user 314\n",
    "book_ratings[book_ratings['user_id'] == 314][3:10]"
   ]
  },
  {
   "cell_type": "markdown",
   "metadata": {},
   "source": [
    "We first generate some ratings for books which user 314 has already rated:"
   ]
  },
  {
   "cell_type": "code",
   "execution_count": null,
   "metadata": {},
   "outputs": [],
   "source": [
    "title = \"The Lord of the Rings: Weapons and Warfare\"\n",
    "actual_rating = book_ratings[(book_ratings['user_id'] == 314) & (book_ratings['title'] == title)]['rating'].values[0]\n",
    "pred_rating = content_generate_rating_estimate(book_title=title, user=314, rating_data=book_ratings)\n",
    "print (f\"Title - {title}\")\n",
    "print (\"---\")\n",
    "print (f\"Actual rating: \\t\\t {actual_rating}\")\n",
    "print (f\"Predicted rating: \\t {pred_rating}\")"
   ]
  },
  {
   "cell_type": "code",
   "execution_count": null,
   "metadata": {},
   "outputs": [],
   "source": [
    "title = \"Survival in Auschwitz\"\n",
    "actual_rating = book_ratings[(book_ratings['user_id'] == 314) & (book_ratings['title'] == title)]['rating'].values[0]\n",
    "pred_rating = content_generate_rating_estimate(book_title=title, user=314, rating_data=book_ratings)\n",
    "print (f\"Title - {title}\")\n",
    "print (\"---\")\n",
    "print (f\"Actual rating: \\t\\t {actual_rating}\")\n",
    "print (f\"Predicted rating: \\t {pred_rating}\")"
   ]
  },
  {
   "attachments": {},
   "cell_type": "markdown",
   "metadata": {},
   "source": [
    "We repeat this process, but now for similar titles which have not been rated:  "
   ]
  },
  {
   "cell_type": "code",
   "execution_count": null,
   "metadata": {},
   "outputs": [],
   "source": [
    "title = \"The Hobbit\"\n",
    "pred_rating = content_generate_rating_estimate(book_title=title, user=314, rating_data=book_ratings)\n",
    "print (f\"Title - {title}\")\n",
    "print (\"---\")\n",
    "print (f\"Actual rating: \\t\\t ?\")\n",
    "print (f\"Predicted rating: \\t {pred_rating}\")"
   ]
  },
  {
   "cell_type": "code",
   "execution_count": null,
   "metadata": {},
   "outputs": [],
   "source": [
    "title = \"Dune (Dune Chronicles #1)\"\n",
    "pred_rating = content_generate_rating_estimate(book_title=title, user=314, rating_data=book_ratings)\n",
    "print (f\"Title - {title}\")\n",
    "print (\"---\")\n",
    "print (f\"Actual rating: \\t\\t ?\")\n",
    "print (f\"Predicted rating: \\t {pred_rating}\")"
   ]
  },
  {
   "attachments": {},
   "cell_type": "markdown",
   "metadata": {},
   "source": [
    "Based on the above results, our content-based ratings seem to be pretty good - being out by less than 1 rating point per known prediction! While we can't make the same judgement for the predicted ratings of the unseen books, they are close to known book ratings which are similar in nature, which is a promising sign."
   ]
  },
  {
   "attachments": {},
   "cell_type": "markdown",
   "metadata": {},
   "source": [
    "## Conclusion\n",
    "\n",
    "We covered a lot of ground in this train by identifying the building blocks of recommender systems: items (things) and users (people). We've learned how recommender algorithms fundamentally use similarity to compare these items and users, with item-item similarity represented by the content-based filtering method. We went on to review the content-based filtering method both theoretically and practically through code implementation."
   ]
  },
  {
   "cell_type": "markdown",
   "metadata": {},
   "source": [
    "## Appendix\n",
    "Links to additional resources to help with the understanding of concepts presented in the train:\n",
    "\n",
    "- [Intro to Recommender Systems](https://www.youtube.com/watch?v=Eeg1DEeWUjA&feature=youtu.be)\n",
    "- [Advanced Recommender System Metrics](https://wiki.epfl.ch/edicpublic/documents/Candidacy%20exam/Evaluation.pdf)"
   ]
  },
  {
   "cell_type": "markdown",
   "metadata": {},
   "source": []
  }
 ],
 "metadata": {
  "kernelspec": {
   "display_name": "denv",
   "language": "python",
   "name": "python3"
  },
  "language_info": {
   "codemirror_mode": {
    "name": "ipython",
    "version": 3
   },
   "file_extension": ".py",
   "mimetype": "text/x-python",
   "name": "python",
   "nbconvert_exporter": "python",
   "pygments_lexer": "ipython3",
   "version": "3.12.8"
  }
 },
 "nbformat": 4,
 "nbformat_minor": 2
}
