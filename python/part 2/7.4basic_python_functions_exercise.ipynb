{
 "cells": [
  {
   "cell_type": "markdown",
   "metadata": {},
   "source": [
    "<div align=\"center\" style=\" font-size: 80%; text-align: center; margin: 0 auto\">\n",
    "<img src=\"https://raw.githubusercontent.com/Explore-AI/Pictures/master/Python-Notebook-Banners/Exercise.png\"  style=\"display: block; margin-left: auto; margin-right: auto;\";/>\n",
    "</div>"
   ],
   "id": "2281eb0763033e9b"
  },
  {
   "attachments": {},
   "cell_type": "markdown",
   "id": "f662d169",
   "metadata": {},
   "source": [
    "# Exercise: Basic Python functions\n",
    "© ExploreAI Academy"
   ]
  },
  {
   "attachments": {},
   "cell_type": "markdown",
   "id": "26af890c",
   "metadata": {},
   "source": [
    "In this exercise, we will explore the fundamental concepts of Python functions and how they can be used in practice. We will be led through hands-on coding exercises that will emphasise basic concepts related to building simple functions and utilising built-in functions."
   ]
  },
  {
   "attachments": {},
   "cell_type": "markdown",
   "id": "2d230d14",
   "metadata": {
    "tags": []
   },
   "source": [
    "## Learning objectives\n",
    "\n",
    "By the end of this exercise, you should be able to:\n",
    "- Understand how to use basic built-in functions.\n",
    "- Create user-defined functions based on specific needs."
   ]
  },
  {
   "cell_type": "markdown",
   "metadata": {},
   "source": [
    "## Exercises"
   ],
   "id": "96829b2c94b82764"
  },
  {
   "attachments": {},
   "cell_type": "markdown",
   "id": "5a0b7683",
   "metadata": {
    "tags": []
   },
   "source": [
    "### Exercise 1\n",
    "\n",
    "Given a list of deforested land in hectares over five years, calculate the total carbon emission over the years using built-in functions.\n",
    "\n",
    " Total carbon emissions are calculated by adding the hectares of deforested land and multiplying the total by a given carbon emissions factor of 40.\n",
    "\n",
    " Hint: \n",
    " * Create a variable called `total_deforested_land`, the result of adding the hectares of the deforested land using the `sum` function.\n",
    " * Create a variable called `total_carbon_emission`, the result of multiplying the `total_deforested_land` variable with the carbon emissions factor."
   ]
  },
  {
   "cell_type": "code",
   "id": "788218d7",
   "metadata": {
    "ExecuteTime": {
     "end_time": "2024-09-27T09:01:59.130800Z",
     "start_time": "2024-09-27T09:01:59.121695Z"
    }
   },
   "source": [
    "# Deforested land for each year\n",
    "deforested_land = [10, 15, 8, 12, 20]\n",
    "\n",
    "# Carbon emission factor (tons of CO2 per hectare)\n",
    "carbon_emission_factor = 40\n",
    "\n",
    "# Your code here...\n",
    "total_deforested_land = sum(deforested_land)\n",
    "total_carbon_emission = total_deforested_land * carbon_emission_factor"
   ],
   "outputs": [
    {
     "name": "stdout",
     "output_type": "stream",
     "text": [
      "2600 65\n"
     ]
    }
   ],
   "execution_count": 1
  },
  {
   "attachments": {},
   "cell_type": "markdown",
   "id": "fd52109b",
   "metadata": {},
   "source": [
    "Print the `total_deforested_land` and `total_carbon_emission` variables."
   ]
  },
  {
   "cell_type": "code",
   "metadata": {
    "ExecuteTime": {
     "end_time": "2024-09-27T09:02:39.698352Z",
     "start_time": "2024-09-27T09:02:39.689376Z"
    }
   },
   "source": [
    "# Your code here...\n",
    "print(total_deforested_land)\n",
    "print(total_carbon_emission)"
   ],
   "id": "70d0a6d0948674b2",
   "outputs": [
    {
     "name": "stdout",
     "output_type": "stream",
     "text": [
      "65\n",
      "2600\n"
     ]
    }
   ],
   "execution_count": 2
  },
  {
   "attachments": {},
   "cell_type": "markdown",
   "metadata": {},
   "source": [
    "### Exercise 2\n",
    "\n",
    "Create a function named `acres_to_hectares` that accepts a parameter of the area of a forest in acres and returns the corresponding area in hectares by multiplying the acres by a conversion rate of 0.404686. \n",
    "\n",
    "Remember to include the doc strings of the function."
   ],
   "id": "5be629f844984f01"
  },
  {
   "cell_type": "code",
   "metadata": {
    "ExecuteTime": {
     "end_time": "2024-09-27T09:06:42.536383Z",
     "start_time": "2024-09-27T09:06:42.529520Z"
    }
   },
   "source": [
    "# Your code here...\n",
    "def acres_to_hectares(area):\n",
    "    \"\"\"\n",
    "    Convert the area in acres to hectares\n",
    "    :param area: area in acres units\n",
    "    :return: area in hectares units\n",
    "    \"\"\"\n",
    "    return area * 0.404686"
   ],
   "id": "c9c323f28ef075aa",
   "outputs": [],
   "execution_count": 3
  },
  {
   "attachments": {},
   "cell_type": "markdown",
   "id": "8bcc8c85",
   "metadata": {},
   "source": [
    "Use the function above to convert a forest area of 50 acres to hectares."
   ]
  },
  {
   "cell_type": "code",
   "id": "4d81db66",
   "metadata": {
    "ExecuteTime": {
     "end_time": "2024-09-27T09:07:05.606407Z",
     "start_time": "2024-09-27T09:07:05.598054Z"
    }
   },
   "source": [
    "# Your code here...\n",
    "print(acres_to_hectares(50))"
   ],
   "outputs": [
    {
     "name": "stdout",
     "output_type": "stream",
     "text": [
      "20.2343\n"
     ]
    }
   ],
   "execution_count": 4
  },
  {
   "attachments": {},
   "cell_type": "markdown",
   "id": "808a6af5",
   "metadata": {},
   "source": [
    "### Exercise 3\n",
    "\n",
    "Using the data representing the deforested land in hectares over the years, calculate and print the average deforested land using the `sum` and `len` built-in functions.\n",
    "\n",
    "Hint:\n",
    "* Create a variable called `average_deforested_land` by adding the hectares of the deforested land together using the `sum` function and then dividing it by the number of values in the list, which can be derived using the `len` function."
   ]
  },
  {
   "cell_type": "code",
   "id": "65e9830a",
   "metadata": {
    "ExecuteTime": {
     "end_time": "2024-09-27T09:27:17.567246Z",
     "start_time": "2024-09-27T09:27:17.559768Z"
    }
   },
   "source": [
    "# Deforested land for each year\n",
    "deforested_land = [10, 15, 8, 12, 20]\n",
    "\n",
    "# Your code here\n",
    "average_deforested_land = sum(deforested_land) / len(deforested_land)"
   ],
   "outputs": [],
   "execution_count": 6
  },
  {
   "attachments": {},
   "cell_type": "markdown",
   "id": "5b3591ba",
   "metadata": {},
   "source": [
    "Print the `average_deforested_land` variable."
   ]
  },
  {
   "cell_type": "code",
   "id": "7fccb10e",
   "metadata": {
    "ExecuteTime": {
     "end_time": "2024-09-27T09:27:20.166854Z",
     "start_time": "2024-09-27T09:27:20.160335Z"
    }
   },
   "source": [
    "# Your code here...\n",
    "print(average_deforested_land)"
   ],
   "outputs": [
    {
     "name": "stdout",
     "output_type": "stream",
     "text": [
      "13.0\n"
     ]
    }
   ],
   "execution_count": 7
  },
  {
   "cell_type": "markdown",
   "metadata": {},
   "source": [
    "## Solutions"
   ],
   "id": "a707ba0ffc3e4554"
  },
  {
   "attachments": {},
   "cell_type": "markdown",
   "metadata": {},
   "source": [
    "### Exercise 1"
   ],
   "id": "eddc9c16e1956943"
  },
  {
   "cell_type": "code",
   "execution_count": null,
   "metadata": {},
   "outputs": [],
   "source": [
    "# Deforested land for each year\n",
    "deforested_land = [10, 15, 8, 12, 20]\n",
    "\n",
    "# Carbon emission factor (tons of CO2 per hectare)\n",
    "carbon_emission_factor = 40\n",
    "\n",
    "# Calculate the total carbon emission using built-in functions\n",
    "total_deforested_land = sum(deforested_land)\n",
    "total_carbon_emission = total_deforested_land * carbon_emission_factor"
   ],
   "id": "b9c1b84e4d2d79d6"
  },
  {
   "cell_type": "code",
   "execution_count": null,
   "id": "c2c26fbb",
   "metadata": {},
   "outputs": [],
   "source": [
    "print(total_deforested_land)\n",
    "print(total_carbon_emission)"
   ]
  },
  {
   "attachments": {},
   "cell_type": "markdown",
   "metadata": {},
   "source": [
    "The `sum()` function is used to calculate the total deforested land, which is then multiplied by the carbon emission factor to obtain the total carbon emission. Each of these calculations is placed in a variable, which we can print to view its value."
   ],
   "id": "f8c82a6d486b7d72"
  },
  {
   "attachments": {},
   "cell_type": "markdown",
   "metadata": {},
   "source": [
    "### Exercise 2\n"
   ],
   "id": "e8176f98602159bc"
  },
  {
   "cell_type": "code",
   "execution_count": null,
   "metadata": {},
   "outputs": [],
   "source": [
    "def acres_to_hectares(acres):\n",
    "    \"\"\"\n",
    "    Convert acres to hectares.\n",
    "\n",
    "    Parameters:\n",
    "    - acres (float): The area in acres.\n",
    "\n",
    "    Returns:\n",
    "    - float: The equivalent area in hectares.\n",
    "    \"\"\"\n",
    "    hectares = acres * 0.404686\n",
    "    return hectares"
   ],
   "id": "1d5148086bcf4fbe"
  },
  {
   "cell_type": "code",
   "execution_count": null,
   "id": "cf109f4c",
   "metadata": {},
   "outputs": [],
   "source": [
    "print(acres_to_hectares(50))"
   ]
  },
  {
   "attachments": {},
   "cell_type": "markdown",
   "metadata": {},
   "source": [
    "A function named `acres_to_hectares` is defined to convert an area from acres to hectares. The function takes the number of acres as a parameter, multiplies it by the conversion factor (1 acre = 0.404686 hectares), and returns the equivalent area in hectares. The conversion function is then used to convert an area of 50 acres to hectares, and the result is printed."
   ],
   "id": "a2e8d7d6fe03894d"
  },
  {
   "attachments": {},
   "cell_type": "markdown",
   "id": "2349af35",
   "metadata": {},
   "source": [
    "### Exercise 3"
   ]
  },
  {
   "cell_type": "code",
   "execution_count": null,
   "id": "2336b058",
   "metadata": {},
   "outputs": [],
   "source": [
    "# Deforested land for different regions\n",
    "deforested_land = [25, 30, 20, 15, 18]\n",
    "\n",
    "# Calculate the average deforested area using built-in functions\n",
    "average_deforested_land = sum(deforested_land) / len(deforested_land)"
   ]
  },
  {
   "cell_type": "code",
   "execution_count": null,
   "id": "7c8d54ab",
   "metadata": {},
   "outputs": [],
   "source": [
    "print(average_deforested_land)"
   ]
  },
  {
   "cell_type": "markdown",
   "id": "26fd094b-0fee-46f1-a4b8-73766813c42b",
   "metadata": {
    "tags": []
   },
   "source": [
    "#  \n",
    "\n",
    "<div align=\"center\" style=\" font-size: 80%; text-align: center; margin: 0 auto\">\n",
    "<img src=\"https://raw.githubusercontent.com/Explore-AI/Pictures/master/ExploreAI_logos/EAI_Blue_Dark.png\"  style=\"width:200px\";/>\n",
    "</div>"
   ]
  }
 ],
 "metadata": {
  "kernelspec": {
   "display_name": "Python 3 (ipykernel)",
   "language": "python",
   "name": "python3"
  },
  "language_info": {
   "codemirror_mode": {
    "name": "ipython",
    "version": 3
   },
   "file_extension": ".py",
   "mimetype": "text/x-python",
   "name": "python",
   "nbconvert_exporter": "python",
   "pygments_lexer": "ipython3",
   "version": "3.11.4"
  }
 },
 "nbformat": 4,
 "nbformat_minor": 5
}
