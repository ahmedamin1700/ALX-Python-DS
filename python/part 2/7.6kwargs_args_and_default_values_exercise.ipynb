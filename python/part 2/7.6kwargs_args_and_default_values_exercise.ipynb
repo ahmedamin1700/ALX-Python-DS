{
 "cells": [
  {
   "cell_type": "markdown",
   "metadata": {},
   "source": [
    "<div align=\"center\" style=\" font-size: 80%; text-align: center; margin: 0 auto\">\n",
    "<img src=\"https://raw.githubusercontent.com/Explore-AI/Pictures/master/Python-Notebook-Banners/Exercise.png\"  style=\"display: block; margin-left: auto; margin-right: auto;\";/>\n",
    "</div>"
   ],
   "id": "36f7fa48fe4a0ca3"
  },
  {
   "attachments": {},
   "cell_type": "markdown",
   "id": "f662d169",
   "metadata": {},
   "source": [
    "# Exercise: Kwargs, args, and default values\n",
    "© ExploreAI Academy"
   ]
  },
  {
   "attachments": {},
   "cell_type": "markdown",
   "id": "26af890c",
   "metadata": {},
   "source": [
    "In this exercise, we will explore the fundamental concepts of Python functions through a series of practical exercises designed to reinforce key concepts such as function creation, parameter usage (including `*args` and `**kwargs`), and default function parameters."
   ]
  },
  {
   "attachments": {},
   "cell_type": "markdown",
   "id": "2d230d14",
   "metadata": {
    "tags": []
   },
   "source": [
    "## Learning objectives\n",
    "\n",
    "By the end of this exercise, you should be able to:\n",
    "- Define functions in Python, comprehend the purpose of parameters, and use default values to enhance the versatility of code.\n",
    "- Handle variable positional arguments, or `*args`, and variable keyword arguments, or `**kwargs`, to create flexible and adaptable functions."
   ]
  },
  {
   "cell_type": "markdown",
   "metadata": {},
   "source": [
    "## Exercises"
   ],
   "id": "280c5bf878822d73"
  },
  {
   "attachments": {},
   "cell_type": "markdown",
   "id": "5a0b7683",
   "metadata": {
    "tags": []
   },
   "source": [
    "### Exercise 1\n",
    "\n",
    "Write a Python function called `calculate_forest_area` that takes two parameters: `trees` and `area_per_tree`. The function should calculate and return the total area covered by the given number of trees. By default, assume that each tree covers 10 square metres of land. Additionally, the function should accept an optional parameter, `deforestation_factor`, with a default value of **0.2**. This factor represents the percentage of the total area that has been deforested. The function should return the **net forest area** after considering deforestation."
   ]
  },
  {
   "cell_type": "code",
   "metadata": {
    "ExecuteTime": {
     "end_time": "2024-09-27T22:14:49.714456Z",
     "start_time": "2024-09-27T22:14:49.703922Z"
    }
   },
   "source": [
    "# Your code here...\n",
    "def calculate_forest_area(trees, area_per_tree=10, deforestation_factor=0.2):\n",
    "    \"\"\"\n",
    "    Calculate the area of a forest.\n",
    "    :param trees: (int) the number of trees.\n",
    "    :param area_per_tree: (int, optional) area covered per tree and default is 10.\n",
    "    :param deforestation_factor: (float, optional) deforestation factor and default is 0.2.\n",
    "    :return: net forest area after considering deforestation factor.\n",
    "    \"\"\"\n",
    "    area = trees * area_per_tree\n",
    "    net_forest_area = area * (1 - deforestation_factor)\n",
    "    return net_forest_area"
   ],
   "id": "569bc8055ff79ed7",
   "outputs": [],
   "execution_count": 3
  },
  {
   "attachments": {},
   "cell_type": "markdown",
   "id": "0460a908",
   "metadata": {},
   "source": [
    "Use the above function to calculate the area of a forest with **50 trees**, assuming each tree covers **5 square metres**, with a **deforestation factor of 0.3**. Print the result."
   ]
  },
  {
   "cell_type": "code",
   "id": "163baa20",
   "metadata": {
    "ExecuteTime": {
     "end_time": "2024-09-27T22:14:54.275279Z",
     "start_time": "2024-09-27T22:14:54.267312Z"
    }
   },
   "source": [
    "# Your code here...\n",
    "print(calculate_forest_area(50, 5, 0.3))"
   ],
   "outputs": [
    {
     "name": "stdout",
     "output_type": "stream",
     "text": [
      "175.0\n"
     ]
    }
   ],
   "execution_count": 4
  },
  {
   "attachments": {},
   "cell_type": "markdown",
   "metadata": {},
   "source": [
    "### Exercise 2\n",
    "\n",
    "Create a function named `tree_planting_campaign` to track the progress of tree planting campaigns. The function should take two parameters: `initial_trees`, representing the current number of trees and `trees_per_campaign`, representing the number of trees planted in each additional campaign. The user should be able to **enter the number of trees planted for a variable number of campaigns based on the actual campaigns that occurred**. The function should return the total number of trees after the campaigns.\n"
   ],
   "id": "b8fc9caa977fc131"
  },
  {
   "attachments": {},
   "cell_type": "markdown",
   "id": "5e517a43",
   "metadata": {},
   "source": [
    "Hints:\n",
    "* Define the function `tree_planting_campaign` with parameters `initial_trees` and an `*args` parameter named `trees_per_campaign`.\n",
    "* Create a variable `total_trees` with the value of `initial_trees`.\n",
    "* Iterate through `*trees_per_campaign` and add each value to `total_trees`.\n",
    "* Return the final value of `total_trees`."
   ]
  },
  {
   "cell_type": "code",
   "metadata": {
    "ExecuteTime": {
     "end_time": "2024-09-27T22:18:43.657879Z",
     "start_time": "2024-09-27T22:18:43.641940Z"
    }
   },
   "source": [
    "# Your code here...\n",
    "def tree_planing_campaign(initial_trees, *trees_per_campaign):\n",
    "    \"\"\"\n",
    "    Track the progress of tree planting campaign.\n",
    "    :param initial_trees: (int) Current number of trees.\n",
    "    :param trees_per_campaign: (int) Number of trees per campaign.\n",
    "    :return: Total progress of tree planting campaign.\n",
    "    \"\"\"\n",
    "    return initial_trees + sum(trees_per_campaign)"
   ],
   "id": "547f2c04ce549c07",
   "outputs": [],
   "execution_count": 8
  },
  {
   "attachments": {},
   "cell_type": "markdown",
   "id": "93b1427b",
   "metadata": {},
   "source": [
    "Use the above function to track and **print** the progress of a few tree planting campaigns. The forest started with **100** trees. In subsequent campaigns, the first campaign produced **20** additional trees, the second **30**, and the third **50** trees."
   ]
  },
  {
   "cell_type": "code",
   "id": "1e439ecc",
   "metadata": {
    "ExecuteTime": {
     "end_time": "2024-09-27T22:19:20.671632Z",
     "start_time": "2024-09-27T22:19:20.663852Z"
    }
   },
   "source": [
    "# Your code here...\n",
    "print(tree_planing_campaign(100, 20, 30, 50))"
   ],
   "outputs": [
    {
     "name": "stdout",
     "output_type": "stream",
     "text": [
      "200\n"
     ]
    }
   ],
   "execution_count": 9
  },
  {
   "attachments": {},
   "cell_type": "markdown",
   "id": "e30d7143",
   "metadata": {},
   "source": [
    "### Exercise 3\n",
    "\n",
    "Create a function named `deforestation_impact_report` to generate a report on the impact of deforestation. The function should **allow the user to enter a variable number of impacts and their values** representing different aspects of deforestation, such as \"loss_of_biodiversity,\" \"carbon_emission,\" etc. The function should **print a labelled list of the provided impact aspects and their corresponding values**."
   ]
  },
  {
   "attachments": {},
   "cell_type": "markdown",
   "id": "59b2404d",
   "metadata": {},
   "source": [
    "Hints:\n",
    "* Define the function `deforestation_impact_report` with `impact_value` as a `**kwargs` parameter.\n",
    "* Iterate through `**impact_value` and print a labelled list for each aspect and its value."
   ]
  },
  {
   "cell_type": "code",
   "id": "3631f75e",
   "metadata": {
    "ExecuteTime": {
     "end_time": "2024-09-27T22:24:49.173448Z",
     "start_time": "2024-09-27T22:24:49.166396Z"
    }
   },
   "source": [
    "# Your code here...\n",
    "def deforestation_impact_report(**impact_value):\n",
    "    \"\"\"\n",
    "    Generate a report on the impact of deforestation.\n",
    "    :param impact_value: Aspects of deforestation impact and their values.\n",
    "    :return: None\n",
    "    \"\"\"\n",
    "    for key, value in impact_value.items():\n",
    "        print(f'{key}: {value}')"
   ],
   "outputs": [],
   "execution_count": 12
  },
  {
   "attachments": {},
   "cell_type": "markdown",
   "id": "0b07260e",
   "metadata": {},
   "source": [
    "Create a report on the impact of deforestation using the above function, noting a **30%** loss of biodiversity, a carbon emission of **500** units, and soil erosion of **20** units."
   ]
  },
  {
   "cell_type": "code",
   "id": "613d9174",
   "metadata": {
    "ExecuteTime": {
     "end_time": "2024-09-27T22:25:35.361906Z",
     "start_time": "2024-09-27T22:25:35.353276Z"
    }
   },
   "source": [
    "# Your code here...\n",
    "deforestation_impact_report(\n",
    "    loss_of_biodiversity=30,\n",
    "    carbon_emission=500,\n",
    "    soil_erosion=20\n",
    ")"
   ],
   "outputs": [
    {
     "name": "stdout",
     "output_type": "stream",
     "text": [
      "loss_of_biodiversity: 30\n",
      "carbon_emission: 500\n",
      "soil_erosion: 20\n"
     ]
    }
   ],
   "execution_count": 13
  },
  {
   "cell_type": "markdown",
   "metadata": {},
   "source": [
    "## Solutions"
   ],
   "id": "5d77c7fdfad7021a"
  },
  {
   "attachments": {},
   "cell_type": "markdown",
   "metadata": {},
   "source": [
    "### Exercise 1\n"
   ],
   "id": "ee1b3466f6e7f71f"
  },
  {
   "cell_type": "code",
   "metadata": {
    "ExecuteTime": {
     "end_time": "2024-09-27T22:15:27.923355Z",
     "start_time": "2024-09-27T22:15:27.915883Z"
    }
   },
   "source": [
    "def calculate_forest_area(trees, area_per_tree=10, deforestation_factor=0.2):\n",
    "    \"\"\"\n",
    "    Calculate the net forest area after considering deforestation.\n",
    "\n",
    "    Parameters:\n",
    "    - trees (int): The number of trees.\n",
    "    - area_per_tree (int, optional): Area covered by each tree. Default is 10 square metres.\n",
    "    - deforestation_factor (float, optional): Percentage of total area deforested. Default is 0.2.\n",
    "\n",
    "    Returns:\n",
    "    float: The net forest area.\n",
    "    \"\"\"\n",
    "    total_area = trees * area_per_tree\n",
    "    net_area = total_area * (1 - deforestation_factor)\n",
    "    return net_area"
   ],
   "id": "7d212f75aab90e80",
   "outputs": [],
   "execution_count": 6
  },
  {
   "attachments": {},
   "cell_type": "markdown",
   "metadata": {},
   "source": [
    "The function `calculate_forest_area` takes the number of trees (`trees`), the area covered by each tree (`area_per_tree` with a default value of `10`), and an optional deforestation factor (`deforestation_factor` with a default value of `0.2`). It calculates the total area covered by the trees and then adjusts it, based on the deforestation factor, to return the net forest area."
   ],
   "id": "cc8a1340a8a3592e"
  },
  {
   "cell_type": "code",
   "id": "49154623",
   "metadata": {
    "ExecuteTime": {
     "end_time": "2024-09-27T22:15:30.555651Z",
     "start_time": "2024-09-27T22:15:30.544886Z"
    }
   },
   "source": [
    "# Use the calculate_forest_area function to calculate the area of a given forest\n",
    "calculate_forest_area(50, 5, 0.3 )"
   ],
   "outputs": [
    {
     "data": {
      "text/plain": [
       "175.0"
      ]
     },
     "execution_count": 7,
     "metadata": {},
     "output_type": "execute_result"
    }
   ],
   "execution_count": 7
  },
  {
   "attachments": {},
   "cell_type": "markdown",
   "metadata": {},
   "source": [
    "### Exercise 2"
   ],
   "id": "c660b50efd858175"
  },
  {
   "cell_type": "code",
   "metadata": {
    "ExecuteTime": {
     "end_time": "2024-09-27T22:19:51.209139Z",
     "start_time": "2024-09-27T22:19:51.201643Z"
    }
   },
   "source": [
    "# Define the tree_planting_campaign\n",
    "def tree_planting_campaign(initial_trees, *trees_per_campaign):\n",
    "    \"\"\"\n",
    "    Track the progress of a tree planting campaign.\n",
    "\n",
    "    Parameters:\n",
    "    - initial_trees (int): Current number of trees.\n",
    "    - *trees_per_campaign (int): Number of trees planted in each additional campaign.\n",
    "\n",
    "    Returns:\n",
    "    int: Total number of trees after the campaign.\n",
    "    \"\"\"\n",
    "    total_trees = initial_trees\n",
    "\n",
    "    # Add trees planted in each campaign\n",
    "    for trees_planted in trees_per_campaign:\n",
    "        total_trees += trees_planted\n",
    "\n",
    "    return total_trees"
   ],
   "id": "e5c737dad63bd029",
   "outputs": [],
   "execution_count": 10
  },
  {
   "attachments": {},
   "cell_type": "markdown",
   "metadata": {},
   "source": [
    "The function `tree_planting_campaign` takes the initial number of trees (`initial_trees`) and any additional number of trees planted in each campaign (`*trees_per_campaign`). The `*trees_per_campaign` arguments are imported in a tuple in the function; therefore, the function iterates through them and adds them to the total number of trees, returning the final count."
   ],
   "id": "16bdf6ed5464512b"
  },
  {
   "cell_type": "code",
   "id": "3b45c82c",
   "metadata": {
    "ExecuteTime": {
     "end_time": "2024-09-27T22:19:53.002413Z",
     "start_time": "2024-09-27T22:19:52.992855Z"
    }
   },
   "source": [
    "# Use the tree_planting_campaign function to track and print the progress of tree planting campaigns\n",
    "tree_planting_campaign(100, 20, 30, 50)"
   ],
   "outputs": [
    {
     "data": {
      "text/plain": [
       "200"
      ]
     },
     "execution_count": 11,
     "metadata": {},
     "output_type": "execute_result"
    }
   ],
   "execution_count": 11
  },
  {
   "attachments": {},
   "cell_type": "markdown",
   "id": "fd161f0e",
   "metadata": {},
   "source": [
    "### Exercise 3"
   ]
  },
  {
   "cell_type": "code",
   "execution_count": null,
   "id": "f069325f",
   "metadata": {},
   "outputs": [],
   "source": [
    "# Define the deforestation_impact_report function\n",
    "def deforestation_impact_report(**impact_value):\n",
    "    \"\"\"\n",
    "    Generate a report on the impact of deforestation.\n",
    "\n",
    "    Parameters:\n",
    "    - **kwargs: Aspects of deforestation impact and their values.\n",
    "\n",
    "    Returns:\n",
    "    None\n",
    "    \"\"\"\n",
    "    print(\"Deforestation Impact Report:\")\n",
    "\n",
    "    for aspect in impact_value:\n",
    "        value = impact_value[aspect]\n",
    "        print(f\"- {aspect}: {value}\")"
   ]
  },
  {
   "attachments": {},
   "cell_type": "markdown",
   "id": "0e99e2ce",
   "metadata": {},
   "source": [
    "The function `deforestation_impact_report` takes various impacts of deforestation as a keyword argument (`**impact_value`). The function imports the `**impact_value` arguments as a dictionary, which means we can use the dictionary keys to extract the impacts and their values. The function loops through the impacts, printing each one with its associated value."
   ]
  },
  {
   "cell_type": "code",
   "execution_count": null,
   "id": "9a70b2ab",
   "metadata": {},
   "outputs": [],
   "source": [
    "# Use the deforestation_impact_report function to create a report \n",
    "deforestation_impact_report(\n",
    "    loss_of_biodiversity=30,\n",
    "    carbon_emission=500,\n",
    "    soil_erosion=20\n",
    ")"
   ]
  },
  {
   "cell_type": "markdown",
   "id": "26fd094b-0fee-46f1-a4b8-73766813c42b",
   "metadata": {
    "tags": []
   },
   "source": [
    "#  \n",
    "\n",
    "<div align=\"center\" style=\" font-size: 80%; text-align: center; margin: 0 auto\">\n",
    "<img src=\"https://raw.githubusercontent.com/Explore-AI/Pictures/master/ExploreAI_logos/EAI_Blue_Dark.png\"  style=\"width:200px\";/>\n",
    "</div>"
   ]
  }
 ],
 "metadata": {
  "kernelspec": {
   "display_name": "Python 3 (ipykernel)",
   "language": "python",
   "name": "python3"
  },
  "language_info": {
   "codemirror_mode": {
    "name": "ipython",
    "version": 3
   },
   "file_extension": ".py",
   "mimetype": "text/x-python",
   "name": "python",
   "nbconvert_exporter": "python",
   "pygments_lexer": "ipython3",
   "version": "3.11.4"
  }
 },
 "nbformat": 4,
 "nbformat_minor": 5
}
