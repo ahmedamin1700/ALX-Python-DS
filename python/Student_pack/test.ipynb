{
 "cells": [
  {
   "cell_type": "code",
   "execution_count": 1,
   "metadata": {},
   "outputs": [],
   "source": [
    "import pandas as pd"
   ]
  },
  {
   "cell_type": "code",
   "execution_count": 2,
   "metadata": {},
   "outputs": [
    {
     "data": {
      "text/html": [
       "<div>\n",
       "<style scoped>\n",
       "    .dataframe tbody tr th:only-of-type {\n",
       "        vertical-align: middle;\n",
       "    }\n",
       "\n",
       "    .dataframe tbody tr th {\n",
       "        vertical-align: top;\n",
       "    }\n",
       "\n",
       "    .dataframe thead th {\n",
       "        text-align: right;\n",
       "    }\n",
       "</style>\n",
       "<table border=\"1\" class=\"dataframe\">\n",
       "  <thead>\n",
       "    <tr style=\"text-align: right;\">\n",
       "      <th></th>\n",
       "      <th>Field_ID</th>\n",
       "      <th>Elevation</th>\n",
       "      <th>Rainfall</th>\n",
       "      <th>Min_temperature_C</th>\n",
       "      <th>Max_temperature_C</th>\n",
       "      <th>pH</th>\n",
       "      <th>Pollution_level</th>\n",
       "      <th>Plot_size</th>\n",
       "      <th>Annual_yield</th>\n",
       "      <th>Crop_type</th>\n",
       "    </tr>\n",
       "  </thead>\n",
       "  <tbody>\n",
       "    <tr>\n",
       "      <th>0</th>\n",
       "      <td>1162</td>\n",
       "      <td>494.95615</td>\n",
       "      <td>1507.6</td>\n",
       "      <td>-5.4</td>\n",
       "      <td>31.0</td>\n",
       "      <td>6.859436</td>\n",
       "      <td>0.007034</td>\n",
       "      <td>3.6</td>\n",
       "      <td>1.617421</td>\n",
       "      <td>coffee</td>\n",
       "    </tr>\n",
       "    <tr>\n",
       "      <th>1</th>\n",
       "      <td>5108</td>\n",
       "      <td>663.73390</td>\n",
       "      <td>581.0</td>\n",
       "      <td>-4.7</td>\n",
       "      <td>30.9</td>\n",
       "      <td>5.603219</td>\n",
       "      <td>0.289643</td>\n",
       "      <td>4.2</td>\n",
       "      <td>2.532497</td>\n",
       "      <td>potato</td>\n",
       "    </tr>\n",
       "    <tr>\n",
       "      <th>2</th>\n",
       "      <td>3504</td>\n",
       "      <td>396.87990</td>\n",
       "      <td>1715.1</td>\n",
       "      <td>-6.1</td>\n",
       "      <td>31.7</td>\n",
       "      <td>5.774116</td>\n",
       "      <td>0.000409</td>\n",
       "      <td>2.6</td>\n",
       "      <td>1.262207</td>\n",
       "      <td>banana</td>\n",
       "    </tr>\n",
       "    <tr>\n",
       "      <th>3</th>\n",
       "      <td>5351</td>\n",
       "      <td>594.80370</td>\n",
       "      <td>1748.0</td>\n",
       "      <td>-4.3</td>\n",
       "      <td>33.6</td>\n",
       "      <td>6.477415</td>\n",
       "      <td>0.088777</td>\n",
       "      <td>7.9</td>\n",
       "      <td>4.351564</td>\n",
       "      <td>wheat</td>\n",
       "    </tr>\n",
       "    <tr>\n",
       "      <th>4</th>\n",
       "      <td>905</td>\n",
       "      <td>609.49800</td>\n",
       "      <td>1395.8</td>\n",
       "      <td>-4.5</td>\n",
       "      <td>31.3</td>\n",
       "      <td>5.419586</td>\n",
       "      <td>0.050023</td>\n",
       "      <td>10.8</td>\n",
       "      <td>5.034791</td>\n",
       "      <td>cassava</td>\n",
       "    </tr>\n",
       "  </tbody>\n",
       "</table>\n",
       "</div>"
      ],
      "text/plain": [
       "   Field_ID  Elevation  Rainfall  Min_temperature_C  Max_temperature_C  \\\n",
       "0      1162  494.95615    1507.6               -5.4               31.0   \n",
       "1      5108  663.73390     581.0               -4.7               30.9   \n",
       "2      3504  396.87990    1715.1               -6.1               31.7   \n",
       "3      5351  594.80370    1748.0               -4.3               33.6   \n",
       "4       905  609.49800    1395.8               -4.5               31.3   \n",
       "\n",
       "         pH  Pollution_level  Plot_size  Annual_yield Crop_type  \n",
       "0  6.859436         0.007034        3.6      1.617421    coffee  \n",
       "1  5.603219         0.289643        4.2      2.532497    potato  \n",
       "2  5.774116         0.000409        2.6      1.262207    banana  \n",
       "3  6.477415         0.088777        7.9      4.351564     wheat  \n",
       "4  5.419586         0.050023       10.8      5.034791   cassava  "
      ]
     },
     "execution_count": 2,
     "metadata": {},
     "output_type": "execute_result"
    }
   ],
   "source": [
    "df = pd.read_csv('MD_agric_exam-4313.csv')\n",
    "df.head()"
   ]
  },
  {
   "cell_type": "code",
   "execution_count": 7,
   "metadata": {},
   "outputs": [
    {
     "data": {
      "text/plain": [
       "8"
      ]
     },
     "execution_count": 7,
     "metadata": {},
     "output_type": "execute_result"
    }
   ],
   "source": [
    "# Write code to determine the number of unique crop types in the dataset?\n",
    "df['Crop_type'].nunique()"
   ]
  },
  {
   "cell_type": "code",
   "execution_count": 9,
   "metadata": {},
   "outputs": [
    {
     "data": {
      "text/plain": [
       "8.99"
      ]
     },
     "execution_count": 9,
     "metadata": {},
     "output_type": "execute_result"
    }
   ],
   "source": [
    "# Identify the maximum annual yield for \"wheat\" crop type in the dataset (rounded to 2 decimal places).\n",
    "round(df[df['Crop_type'] == 'wheat']['Annual_yield'].max(), 2)"
   ]
  },
  {
   "cell_type": "code",
   "execution_count": 15,
   "metadata": {},
   "outputs": [
    {
     "data": {
      "text/plain": [
       "478902.6"
      ]
     },
     "execution_count": 15,
     "metadata": {},
     "output_type": "execute_result"
    }
   ],
   "source": [
    "# Find the total rainfall for crop types where the average pollution level is above 0.2. \n",
    "df[df['Pollution_level'] > 0.2]['Rainfall'].sum()"
   ]
  },
  {
   "cell_type": "code",
   "execution_count": 22,
   "metadata": {},
   "outputs": [
    {
     "name": "stdout",
     "output_type": "stream",
     "text": [
      "135    40.7\n",
      "dtype: float64\n",
      "644    35.7\n",
      "dtype: float64\n",
      "892    33.4\n",
      "dtype: float64\n"
     ]
    }
   ],
   "source": [
    "# Write a function to calculate the temperature range (Max_temperature_C - Min_temperature_C) \n",
    "# for each farmer's field. Then, call the function with the following \n",
    "# `Field_ID`: `1458`, `1895`, and `5443`. What are the results of these 3 calls?\n",
    "\n",
    "def temperature_range(df, field_id):\n",
    "  return df[df['Field_ID'] == field_id]['Max_temperature_C'] - df[df['Field_ID'] == field_id]['Min_temperature_C']\n",
    "\n",
    "print(temperature_range(df, 1458))\n",
    "print(temperature_range(df, 1895))\n",
    "print(temperature_range(df, 5443))"
   ]
  },
  {
   "cell_type": "code",
   "execution_count": 27,
   "metadata": {},
   "outputs": [
    {
     "name": "stdout",
     "output_type": "stream",
     "text": [
      "coffee -4.165656565656565\n",
      "potato -4.57054794520548\n",
      "banana -5.389320388349515\n",
      "wheat -5.060655737704919\n",
      "cassava -4.080141843971631\n",
      "maize -4.31219512195122\n",
      "tea -2.8854014598540147\n",
      "rice -6.464583333333333\n",
      "rice\n"
     ]
    }
   ],
   "source": [
    "# What does the following code achieve?\n",
    "\n",
    "a = df['Crop_type'].unique()\n",
    "b = float('inf')\n",
    "c = ''\n",
    "\n",
    "for crop in a:\n",
    "    d = df[df['Crop_type'] == crop]['Min_temperature_C'].mean()\n",
    "    print(crop, d)\n",
    "    if d < b:\n",
    "        b = d\n",
    "        c = crop\n",
    "print(c)"
   ]
  },
  {
   "cell_type": "code",
   "execution_count": 29,
   "metadata": {},
   "outputs": [
    {
     "data": {
      "text/plain": [
       "1731.9"
      ]
     },
     "execution_count": 29,
     "metadata": {},
     "output_type": "execute_result"
    }
   ],
   "source": [
    "# Write code to calculate the total plot size for plots where the pH is less than 5.5.\n",
    "round(df[df['pH'] < 5.5]['Plot_size'].sum(), 1)"
   ]
  },
  {
   "cell_type": "code",
   "execution_count": 31,
   "metadata": {},
   "outputs": [
    {
     "data": {
      "text/plain": [
       "319"
      ]
     },
     "execution_count": 31,
     "metadata": {},
     "output_type": "execute_result"
    }
   ],
   "source": [
    "temperature_filtered_df = df[\n",
    "  (df['Min_temperature_C'] < -5)\n",
    "  &\n",
    "  (df['Max_temperature_C'] > 30)\n",
    "]\n",
    "temperature_filtered_df.shape[0]"
   ]
  },
  {
   "cell_type": "code",
   "execution_count": 36,
   "metadata": {},
   "outputs": [
    {
     "data": {
      "text/plain": [
       "469.62"
      ]
     },
     "execution_count": 36,
     "metadata": {},
     "output_type": "execute_result"
    }
   ],
   "source": [
    "# Using Numpy, calculate the standard deviation of the 'Rainfall' for plots where the \n",
    "# 'Plot_size' is larger than the median plot size of the dataset (round to 2 decimal places).\n",
    "\n",
    "import numpy as np\n",
    "\n",
    "median_plot_size = np.median(df['Plot_size'])\n",
    "\n",
    "np.round(np.std(df[df['Plot_size'] > median_plot_size]['Rainfall']), 2)"
   ]
  },
  {
   "cell_type": "code",
   "execution_count": 42,
   "metadata": {},
   "outputs": [
    {
     "data": {
      "text/plain": [
       "'30.ice'"
      ]
     },
     "execution_count": 42,
     "metadata": {},
     "output_type": "execute_result"
    }
   ],
   "source": [
    "\"\"\"\n",
    "If you concatenate the first three digits of the most common \n",
    "'Max_temperature_C' with the last three letters of the least common 'Crop_type', what string do you get?\n",
    "Note: Use the first mode if there are multiple modes\n",
    "\"\"\"\n",
    "most_common_max_temp = df['Max_temperature_C'].mode()[0]\n",
    "least_common_crop_type = df['Crop_type'].value_counts().idxmin()\n",
    "\n",
    "result = str(most_common_max_temp)[:3] + least_common_crop_type[-3:]\n",
    "result"
   ]
  },
  {
   "cell_type": "code",
   "execution_count": 46,
   "metadata": {},
   "outputs": [
    {
     "data": {
      "image/png": "[encoded data removed]",
      "text/plain": [
       "<Figure size 1000x600 with 1 Axes>"
      ]
     },
     "metadata": {},
     "output_type": "display_data"
    }
   ],
   "source": [
    "import matplotlib.pyplot as plt\n",
    "import seaborn as sns\n",
    "\n",
    "bins = [0, 300, 600, float('inf')]\n",
    "labels = ['Low', 'Medium', 'High'] \n",
    "df['Elevation'] = pd.cut(df['Elevation'], bins=bins, labels=labels, right=False)\n",
    "\n",
    "plt.figure(figsize=(10, 6))\n",
    "sns.violinplot(x='Elevation', y='Annual_yield', data=df)\n",
    "\n",
    "plt.title('Distribution of Annual Yield Across Elevation Categories')\n",
    "plt.xlabel('Elevation')\n",
    "plt.ylabel('Annual Yield')\n",
    "plt.show()"
   ]
  },
  {
   "cell_type": "code",
   "execution_count": 53,
   "metadata": {},
   "outputs": [
    {
     "name": "stdout",
     "output_type": "stream",
     "text": [
      "['coffee', 'potato', 'banana', 'wheat', 'cassava', 'maize', 'tea', 'rice']\n",
      "[6, 6, 6, 5, 7, 5, 3, 4]\n"
     ]
    },
    {
     "data": {
      "text/plain": [
       "42"
      ]
     },
     "execution_count": 53,
     "metadata": {},
     "output_type": "execute_result"
    }
   ],
   "source": [
    "crops = list(df['Crop_type'].unique())\n",
    "print(crops)\n",
    "print([len(x) for x in crops])\n",
    "crops_total = sum([len(x) for x in crops])\n",
    "crops_total"
   ]
  },
  {
   "cell_type": "code",
   "execution_count": 61,
   "metadata": {},
   "outputs": [
    {
     "data": {
      "text/plain": [
       "0.598"
      ]
     },
     "execution_count": 61,
     "metadata": {},
     "output_type": "execute_result"
    }
   ],
   "source": [
    "# Write Python code to perform a t-test comparing the average \n",
    "# 'Annual_yield' between 'coffee' and 'banana' crop types using scipy.stats. \n",
    "# What is the p-value, rounded to three decimal places?\n",
    "\n",
    "from scipy.stats import ttest_ind\n",
    "\n",
    "mean_coffee = df[df['Crop_type'] == 'coffee']['Annual_yield']\n",
    "mean_banana = df[df['Crop_type'] == 'banana']['Annual_yield']\n",
    "\n",
    "t_stat, p_val = ttest_ind(mean_coffee, mean_banana, equal_var=False)\n",
    "\n",
    "round(p_val, 3)"
   ]
  }
 ],
 "metadata": {
  "kernelspec": {
   "display_name": "dataenv",
   "language": "python",
   "name": "python3"
  },
  "language_info": {
   "codemirror_mode": {
    "name": "ipython",
    "version": 3
   },
   "file_extension": ".py",
   "mimetype": "text/x-python",
   "name": "python",
   "nbconvert_exporter": "python",
   "pygments_lexer": "ipython3",
   "version": "3.12.7"
  }
 },
 "nbformat": 4,
 "nbformat_minor": 2
}
