{
 "cells": [
  {
   "cell_type": "markdown",
   "metadata": {
    "id": "Ee-v8I_P8rfp"
   },
   "source": [
    "<div align=\"center\" style=\" font-size: 80%; text-align: center; margin: 0 auto\">\n",
    "<img src=\"https://raw.githubusercontent.com/Explore-AI/Pictures/master/Python-Notebook-Banners/Exercise.png\"  style=\"display: block; margin-left: auto; margin-right: auto;\";/>\n",
    "</div>\n",
    "\n",
    "# Exercise: Search Algorithms\n",
    "© ExploreAI Academy\n",
    "\n",
    "In this exercise, we will reinforce our knowledge of the fundamental concepts of search algorithms through a series of practical exercises.\n"
   ]
  },
  {
   "cell_type": "markdown",
   "metadata": {
    "id": "ITqrvAqq8xSC"
   },
   "source": [
    "## Learning objectives\n",
    "\n",
    "By the end of this train, you should be able to:\n",
    "* Implement linear and binary search algorithms.\n"
   ]
  },
  {
   "cell_type": "markdown",
   "metadata": {},
   "source": [
    "## Exercises"
   ]
  },
  {
   "cell_type": "markdown",
   "metadata": {},
   "source": [
    "### Exercise 1"
   ]
  },
  {
   "cell_type": "markdown",
   "metadata": {},
   "source": [
    "Using the below pseudocode as a guide for implementation. Write a basic linear search function.\n",
    "\n",
    "```python\n",
    "# Pseudocode\n",
    "procedure linear_search( list, target )\n",
    "    for each element in the list\n",
    "        if the element equals the target\n",
    "            return its index\n",
    "\n",
    "    return not found\n",
    "end procedure\n",
    "```"
   ]
  },
  {
   "cell_type": "code",
   "metadata": {
    "ExecuteTime": {
     "end_time": "2024-10-02T15:21:18.277269Z",
     "start_time": "2024-10-02T15:21:18.268700Z"
    }
   },
   "source": [
    "# Your solution here...\n",
    "def linear_search(elements, target):\n",
    "    for element in elements:\n",
    "        if element == target:\n",
    "            return elements.index(element)\n",
    "    return False"
   ],
   "outputs": [],
   "execution_count": 1
  },
  {
   "cell_type": "markdown",
   "metadata": {},
   "source": [
    "Given the below data, use the `linear_search` function to search for the target value.\n",
    "\n",
    "`my_list = [1, 3, 5, 7, 9]`\n",
    "\n",
    "`target_value = 5`"
   ]
  },
  {
   "cell_type": "code",
   "metadata": {
    "ExecuteTime": {
     "end_time": "2024-10-02T15:22:36.745413Z",
     "start_time": "2024-10-02T15:22:36.735337Z"
    }
   },
   "source": [
    "# Your solution here...\n",
    "my_list = [1, 3, 5, 7, 9]\n",
    "linear_search(my_list, 5)"
   ],
   "outputs": [
    {
     "data": {
      "text/plain": [
       "2"
      ]
     },
     "execution_count": 4,
     "metadata": {},
     "output_type": "execute_result"
    }
   ],
   "execution_count": 4
  },
  {
   "cell_type": "markdown",
   "metadata": {},
   "source": [
    "### Exercise 2\n",
    "\n",
    "Naturally, we can adapt the linear search algorithm to return all the occurrences and/or count the number of occurrences by adding a running counter and moving the return statement.\n",
    "\n",
    "Write a linear search function that counts the number of occurrences of a searched item."
   ]
  },
  {
   "cell_type": "code",
   "metadata": {
    "ExecuteTime": {
     "end_time": "2024-10-02T15:25:18.983581Z",
     "start_time": "2024-10-02T15:25:18.971440Z"
    }
   },
   "source": [
    "# Your solution here...\n",
    "def linear_search_count(elements, target):\n",
    "    count = 0\n",
    "    for element in elements:\n",
    "        if element == target:\n",
    "            count += 1\n",
    "    return count"
   ],
   "outputs": [],
   "execution_count": 5
  },
  {
   "cell_type": "markdown",
   "metadata": {},
   "source": [
    "Count the number of times the target value appears in the list below.\n",
    "\n",
    "`my_list = [1, 3, 5, 3, 7, 9, 3]`\n",
    "\n",
    "`target_value = 3`\n"
   ]
  },
  {
   "cell_type": "code",
   "metadata": {
    "ExecuteTime": {
     "end_time": "2024-10-02T15:26:07.047923Z",
     "start_time": "2024-10-02T15:26:07.037672Z"
    }
   },
   "source": [
    "# Your solution here...\n",
    "my_list = [1, 3, 5, 3, 7, 9, 3]\n",
    "target_value = 3\n",
    "linear_search_count(my_list, target_value)"
   ],
   "outputs": [
    {
     "data": {
      "text/plain": [
       "3"
      ]
     },
     "execution_count": 6,
     "metadata": {},
     "output_type": "execute_result"
    }
   ],
   "execution_count": 6
  },
  {
   "cell_type": "markdown",
   "metadata": {},
   "source": [
    "### Exercise 3"
   ]
  },
  {
   "cell_type": "markdown",
   "metadata": {},
   "source": [
    "Using the below pseudocode as a guide for implementation. Write a basic recursive implementation of a binary search function.\n",
    "\n",
    "```python\n",
    "# Pseudocode\n",
    "procedure binary_search_recur( list items, target )\n",
    "\n",
    "    find the midpoint of items\n",
    "\n",
    "    if length of items == 1 then\n",
    "        return midpoint if midpoint is equal to the target value, otherwise return False\n",
    "    else if midpoint item == target\n",
    "        return midpoint\n",
    "    else\n",
    "        # Recursively divide the sublists further.\n",
    "        if midpoint item < target\n",
    "            call binary_search_recur on right side sublist and target value\n",
    "            return midpoint + call if the call is not False, otherwise return False\n",
    "        else\n",
    "            return call binary_search_recur on left side sublist and target value\n",
    "end procedure\n",
    "```"
   ]
  },
  {
   "cell_type": "code",
   "metadata": {
    "ExecuteTime": {
     "end_time": "2024-10-02T15:43:38.229895Z",
     "start_time": "2024-10-02T15:43:38.203111Z"
    }
   },
   "source": [
    "# Your solution here...\n",
    "def binary_search_recur(elements, target):\n",
    "    mid_point = len(elements) // 2\n",
    "    \n",
    "    if len(elements) == 1:\n",
    "        return mid_point if target == elements[mid_point] else False\n",
    "    elif elements[mid_point] == target:\n",
    "        return mid_point\n",
    "    else:\n",
    "        if elements[mid_point] < target:\n",
    "            callback = binary_search_recur(elements[mid_point:], target)\n",
    "            return mid_point + callback if callback is not False else False\n",
    "        else:\n",
    "            return binary_search_recur(elements[:mid_point], target)\n",
    "            "
   ],
   "outputs": [],
   "execution_count": 14
  },
  {
   "cell_type": "markdown",
   "metadata": {},
   "source": [
    "Given the below data, use the `binary_search_recur` function to search for the target value. \n",
    "\n",
    "`my_list = [1, 3, 5, 7, 9, 11, 13, 15, 17]`\n",
    "\n",
    "`target_value = 13`"
   ]
  },
  {
   "cell_type": "code",
   "metadata": {
    "ExecuteTime": {
     "end_time": "2024-10-02T15:43:40.709941Z",
     "start_time": "2024-10-02T15:43:40.669287Z"
    }
   },
   "source": [
    "# Your solution here...\n",
    "my_list = [1, 3, 5, 7, 9, 11, 13, 15, 17]\n",
    "target_value = 13\n",
    "\n",
    "binary_search_recur(my_list, target_value)"
   ],
   "outputs": [
    {
     "data": {
      "text/plain": [
       "6"
      ]
     },
     "execution_count": 15,
     "metadata": {},
     "output_type": "execute_result"
    }
   ],
   "execution_count": 15
  },
  {
   "cell_type": "markdown",
   "metadata": {},
   "source": [
    "### Exercise 4\n",
    "\n",
    "Using the below pseudocode as a guide for implementation. Write a basic iterative implementation of a binary search function.\n",
    "\n",
    "```python\n",
    "# Pseudocode\n",
    "procedure binary_search_iter( list items, target )\n",
    "\n",
    "    initialise start value as zero\n",
    "    initialise end value as length(items) - 1\n",
    "\n",
    "    while start value <= end value then continue\n",
    "        mid value = (start + end) divided by 2 (floor division)\n",
    "\n",
    "        if target == mid item then\n",
    "            return mid value\n",
    "\n",
    "        if target < mid item then\n",
    "            end = mid - 1\n",
    "        else then\n",
    "            start = mid + 1\n",
    "\n",
    "    return when not found as False\n",
    "end procedure\n",
    "```"
   ]
  },
  {
   "cell_type": "code",
   "metadata": {
    "ExecuteTime": {
     "end_time": "2024-10-02T15:49:29.486765Z",
     "start_time": "2024-10-02T15:49:29.466911Z"
    }
   },
   "source": [
    "# Your solution here...\n",
    "\n",
    "def binary_search_iter(items, target):\n",
    "    start = 0\n",
    "    end = len(items) - 1\n",
    "    \n",
    "    while start <= end:\n",
    "        mid = (start + end) // 2\n",
    "        \n",
    "        if target == items[mid]:\n",
    "            return mid\n",
    "        elif target < items[mid]:\n",
    "            end = mid - 1\n",
    "        elif target > items[mid]:\n",
    "            start = mid + 1\n",
    "    \n",
    "    return False"
   ],
   "outputs": [],
   "execution_count": 17
  },
  {
   "cell_type": "markdown",
   "metadata": {},
   "source": [
    "Given the below data, use the `binary_search_iter` function to search for the target value.\n",
    "\n",
    "`my_list = [1, 3, 5, 7, 9, 11, 13, 15, 17]`\n",
    "\n",
    "`target_value = 13`"
   ]
  },
  {
   "cell_type": "code",
   "metadata": {
    "ExecuteTime": {
     "end_time": "2024-10-02T15:49:57.688688Z",
     "start_time": "2024-10-02T15:49:57.665045Z"
    }
   },
   "source": [
    "# Your solution here...\n",
    "my_list = [1, 3, 5, 7, 9, 11, 13, 15, 17]\n",
    "\n",
    "target_value = 13\n",
    "\n",
    "binary_search_iter(my_list, target_value)"
   ],
   "outputs": [
    {
     "data": {
      "text/plain": [
       "6"
      ]
     },
     "execution_count": 18,
     "metadata": {},
     "output_type": "execute_result"
    }
   ],
   "execution_count": 18
  },
  {
   "cell_type": "markdown",
   "metadata": {},
   "source": [
    "## Solutions"
   ]
  },
  {
   "cell_type": "markdown",
   "metadata": {},
   "source": [
    "### Exercise 1"
   ]
  },
  {
   "cell_type": "code",
   "execution_count": null,
   "metadata": {},
   "outputs": [],
   "source": [
    "def linear_search(lst, target):\n",
    "    for index, element in enumerate(lst):\n",
    "        if element == target:\n",
    "            return index\n",
    "\n",
    "    return -1  # return the last element if not found"
   ]
  },
  {
   "cell_type": "code",
   "execution_count": null,
   "metadata": {},
   "outputs": [],
   "source": [
    "my_list = [1, 3, 5, 7, 9]\n",
    "target_value = 5\n",
    "\n",
    "linear_search(my_list, target_value)"
   ]
  },
  {
   "cell_type": "markdown",
   "metadata": {},
   "source": [
    "In this solution, the linear_search function takes a list (`lst`) and a target value (`target`). It iterates through each element in the list using enumerate, checks if the current element is equal to the target, and returns the index if a match is found. If no match is found after the loop, it returns -1 to indicate that the target is not present in the list."
   ]
  },
  {
   "cell_type": "markdown",
   "metadata": {},
   "source": [
    "### Exercise 2"
   ]
  },
  {
   "cell_type": "code",
   "execution_count": null,
   "metadata": {},
   "outputs": [],
   "source": [
    "def linear_search_count(lst, target):\n",
    "    count = 0\n",
    "\n",
    "    for element in lst:\n",
    "        if element == target:\n",
    "            count += 1\n",
    "\n",
    "    return count"
   ]
  },
  {
   "cell_type": "code",
   "execution_count": null,
   "metadata": {},
   "outputs": [],
   "source": [
    "my_list = [1, 3, 5, 3, 7, 9, 3]\n",
    "target_value = 3\n",
    "\n",
    "linear_search_count(my_list, target_value)"
   ]
  },
  {
   "cell_type": "markdown",
   "metadata": {},
   "source": [
    "In this version, a count variable is initialized to 0 before the loop. Inside the loop, whenever the current element matches the target, the count is incremented. After the loop, the function returns the final count, indicating how many times the target appears in the list."
   ]
  },
  {
   "cell_type": "markdown",
   "metadata": {},
   "source": [
    "### Exercise 3"
   ]
  },
  {
   "cell_type": "code",
   "metadata": {
    "ExecuteTime": {
     "end_time": "2024-10-02T15:38:40.963742Z",
     "start_time": "2024-10-02T15:38:40.955892Z"
    }
   },
   "source": [
    "def binary_search_recur(items, target):\n",
    "    \n",
    "    mid = len(items) // 2\n",
    "    \n",
    "    if len(items) == 1:\n",
    "        return mid if items[mid] == target else False\n",
    "    elif items[mid] == target:\n",
    "        return mid\n",
    "    else:\n",
    "        if items[mid] < target:\n",
    "            callback_response = binary_search_recur(items[mid:], target)\n",
    "            return mid + callback_response if callback_response is not False else False\n",
    "        else:\n",
    "            return binary_search_recur(items[:mid], target)\n",
    "\n"
   ],
   "outputs": [],
   "execution_count": 9
  },
  {
   "cell_type": "code",
   "metadata": {
    "ExecuteTime": {
     "end_time": "2024-10-02T15:38:42.954072Z",
     "start_time": "2024-10-02T15:38:42.944020Z"
    }
   },
   "source": [
    "my_list = [1, 3, 5, 7, 9, 11, 13, 15, 17]\n",
    "target_value = 13\n",
    "\n",
    "binary_search_recur(my_list, target_value)"
   ],
   "outputs": [
    {
     "data": {
      "text/plain": [
       "6"
      ]
     },
     "execution_count": 10,
     "metadata": {},
     "output_type": "execute_result"
    }
   ],
   "execution_count": 10
  },
  {
   "cell_type": "markdown",
   "metadata": {},
   "source": [
    "This function `binary_search_recur` takes a sorted list (`items`) and a target value (`target`). It recursively searches for the target in the list, dividing it into halves and narrowing down the search space based on the comparison with the midpoint. If the target is found, it returns the index; otherwise, it returns False."
   ]
  },
  {
   "cell_type": "markdown",
   "metadata": {},
   "source": [
    "### Exercise 4"
   ]
  },
  {
   "cell_type": "code",
   "execution_count": null,
   "metadata": {},
   "outputs": [],
   "source": [
    "def binary_search_iter(items, target):\n",
    "    start = 0\n",
    "    end = len(items) - 1\n",
    "\n",
    "    while start <= end:\n",
    "        mid = (start + end) // 2\n",
    "\n",
    "        if items[mid] == target:\n",
    "            return mid\n",
    "\n",
    "        if target < items[mid]:\n",
    "            end = mid - 1\n",
    "        else:\n",
    "            start = mid + 1\n",
    "\n",
    "    return False"
   ]
  },
  {
   "cell_type": "code",
   "execution_count": null,
   "metadata": {},
   "outputs": [],
   "source": [
    "my_list = [1, 3, 5, 7, 9, 11, 13, 15, 17]\n",
    "target_value = 13\n",
    "\n",
    "binary_search_iter(my_list, target_value)"
   ]
  },
  {
   "cell_type": "markdown",
   "metadata": {},
   "source": [
    "This function `binary_search_iter` takes a sorted list (`items`) and a target value (`target`). It iteratively searches for the target in the list by adjusting the start and end indices based on the comparison with the midpoint. If the target is found, it returns the index; otherwise, it returns False."
   ]
  },
  {
   "cell_type": "markdown",
   "metadata": {},
   "source": [
    "<div align=\"center\" style=\" font-size: 80%; text-align: center; margin: 0 auto\">\n",
    "<img src=\"https://raw.githubusercontent.com/Explore-AI/Pictures/master/ExploreAI_logos/EAI_Blue_Dark.png\"  style=\"width:200px\";/>\n",
    "</div>"
   ]
  }
 ],
 "metadata": {
  "colab": {
   "authorship_tag": "ABX9TyPZFCZhaikX+N2/Bg7W6SY+",
   "collapsed_sections": [],
   "name": "Search_algorithms.ipynb",
   "provenance": [],
   "toc_visible": true
  },
  "interpreter": {
   "hash": "6b5ebbc2c6bde2831bc6c0426f75aca8137ccfc69d329557556ed73faee126ae"
  },
  "kernelspec": {
   "display_name": "Python 3",
   "language": "python",
   "name": "python3"
  },
  "language_info": {
   "codemirror_mode": {
    "name": "ipython",
    "version": 3
   },
   "file_extension": ".py",
   "mimetype": "text/x-python",
   "name": "python",
   "nbconvert_exporter": "python",
   "pygments_lexer": "ipython3",
   "version": "3.11.4"
  }
 },
 "nbformat": 4,
 "nbformat_minor": 2
}
