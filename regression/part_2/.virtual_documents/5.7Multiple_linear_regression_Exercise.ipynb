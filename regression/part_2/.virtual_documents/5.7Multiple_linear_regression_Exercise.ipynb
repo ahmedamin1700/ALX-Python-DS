














import pandas as pd
import numpy as np
import statsmodels.formula.api as smf
import matplotlib.pyplot as plt
import statsmodels.graphics.correlation as sgc
from statsmodels.graphics.gofplots import qqplot
import statsmodels.stats.api as sms
from statsmodels.stats.outliers_influence import OLSInfluence


# Read the data
environmental_indicators = pd.read_csv('https://raw.githubusercontent.com/Explore-AI/Public-Data/master/Data/regression_sprint/enviro_indicators.csv', index_col=0)
environmental_indicators.head(10)








# insert code here






# insert code here






# insert code here





# Specifying the variables of interest
independent_cols = ['forest_coverage',  'protected_areas',
       'deforestation_rate', 'carbon_sequestration', 'soil_erosion',
       'land_degradation', 'rural_population', 'population_density']

dependent_var = 'biodiversity_index'




# insert code here





# insert code here





# insert code here





# insert code here






# insert code here





# insert code here





# insert code here









# Print the first few rows of the dataset
print("First few rows of the dataset:")
print(environmental_indicators.head())

# Print the summary statistics of the dataset
print("\nSummary statistics of the dataset:")
print(environmental_indicators.describe())

# Check for missing values in the dataset
print("\nMissing values in the dataset:")
print(environmental_indicators.isnull().sum())

# Exclude non-numeric columns before computing the correlation matrix
numeric_columns = environmental_indicators.select_dtypes(include=[np.number])








# Create the correlation_matrix
correlation_matrix = numeric_columns.corr()

print("\nCorrelation matrix of the variables:")
correlation_matrix





# Exclude non-numeric columns (like 'country') and the dependent variable from the correlation matrix
numeric_dependent_variables = environmental_indicators
# Compute the correlation matrix
corr_matrix = numeric_dependent_variables.corr()

# Generate the correlation heatmap
plt.figure(figsize=(10, 8))
sgc.plot_corr(corr_matrix, xnames=corr_matrix.columns)
plt.title('Correlation Heatmap of Variables')
plt.show()








independent_cols = ['forest_coverage',  'protected_areas',
       'deforestation_rate', 'carbon_sequestration', 'soil_erosion',
       'land_degradation', 'rural_population', 'population_density']

dependent_var = 'biodiversity_index'


# Generating the regression string
formula_str = dependent_var+ ' ~ ' + ' + '.join(independent_cols)
formula_str
# Construct and fit the model
model = smf.ols(formula=formula_str, data=environmental_indicators)
fitted = model.fit()

# Print the summary of the fitted model
print(fitted.summary())








# dropped population density, land_degradation, carbon sequestration
independent_cols_reduced = ['forest_coverage',  'protected_areas',
       'deforestation_rate', 'soil_erosion',
        'rural_population']

dependent_var = 'biodiversity_index'


# Generating the regression string
formula_str = dependent_var+ ' ~ ' + ' + '.join(independent_cols_reduced)
formula_str
# Construct and fit the model
model = smf.ols(formula=formula_str, data=environmental_indicators)
fitted = model.fit()

# Print the summary of the fitted model
print(fitted.summary())








# Determine the number of rows and columns for subplots
num_cols = 2
num_rows = (len(independent_cols_reduced) + num_cols - 1) // num_cols

# Create subplots
fig, axs = plt.subplots(num_rows, num_cols, figsize=(12, 8))
fig.subplots_adjust(hspace=0.5, wspace=0.3)
axs = axs.ravel()

# Iterate over each independent variable and create scatter plot against biodiversity index
for index, column in enumerate(independent_cols_reduced):
    axs[index].scatter(x=environmental_indicators[column], y=environmental_indicators['biodiversity_index'], color='blue', edgecolor='k')
    axs[index].set_title("{} vs. Biodiversity_index".format(column), fontsize=12)
    axs[index].set_xlabel(column, fontsize=10)
    axs[index].set_ylabel("Biodiversity_index", fontsize=10)


plt.tight_layout()
plt.show()








reduced_matrix = environmental_indicators[independent_cols_reduced]


# Plotting predictor variables vs. model residuals
fig, axs = plt.subplots(2, 2, figsize=(14, 6), sharey=True)  # Adjusted to 2 rows and 4 columns
fig.subplots_adjust(hspace=0.5, wspace=0.2)
fig.suptitle('Predictor variables vs. model residuals', fontsize=16)
axs = axs.ravel()

for index, column in enumerate(reduced_matrix):
    if index < len(axs):  # Ensure we don't exceed the number of subplots
        axs[index].set_title("{}".format(column), fontsize=12)
        axs[index].scatter(x=environmental_indicators[column], y=fitted.resid, color='blue', edgecolor='k')
        axs[index].grid(True)
        xmin = min(environmental_indicators[column])
        xmax = max(environmental_indicators[column])
        axs[index].hlines(y=0, xmin=xmin*0.9, xmax=xmax*1.1, color='red', linestyle='--', lw=3)
        if index == 0 or index == 4:
            axs[index].set_ylabel('Residuals')








# 1. Calculate residuals
residuals = fitted.resid

# 2. Perform Breusch-Pagan Test
bp_test_result = sms.het_breuschpagan(residuals, fitted.model.exog)
print("Breusch-Pagan Test Results:")
print("LM Statistic:", bp_test_result[0])
print("LM-Test p-value:", bp_test_result[1])
print("F-Statistic:", bp_test_result[2])
print("F-Test p-value:", bp_test_result[3])








# Q-Q plot of normalised residuals
plt.figure(figsize=(8, 5))
fig = qqplot(fitted.resid_pearson, line='45', fit=True)
plt.xticks(fontsize=13)
plt.yticks(fontsize=13)
plt.xlabel("Theoretical quantiles", fontsize=15)
plt.ylabel("Sample quantiles", fontsize=15)
plt.title("Q-Q plot of normalised residuals", fontsize=18)
plt.grid(True)
plt.show()








# Calculate Cook's distance
influence = OLSInfluence(fitted)
(c, p) = influence.cooks_distance

# Plot Cook's distance
plt.figure(figsize=(8, 5))
plt.title("Cook's distance plot for the residuals", fontsize=16)
plt.plot(np.arange(len(c)), c, marker='o', linestyle='-')
plt.xlabel('Observation index')
plt.ylabel("Cook's Distance")
plt.grid(True)
plt.show()


c






