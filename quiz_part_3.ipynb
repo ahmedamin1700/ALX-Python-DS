{
 "cells": [
  {
   "cell_type": "markdown",
   "metadata": {},
   "source": [
    "## Question 2\n",
    "\n",
    "```{python}\n",
    "def bubble_sort(items):\n",
    "return items\n",
    "for j in range(len(items)-1-i):\n",
    "if items[j] > items[j+1]:\n",
    "\"\"\" Implementation of bubble sort.\"\"\"\n",
    "items[j], items[j+1] = items[j+1], items[j]\n",
    "for i in range(len(items)):\n",
    "```"
   ]
  },
  {
   "cell_type": "code",
   "execution_count": 22,
   "metadata": {},
   "outputs": [
    {
     "data": {
      "text/plain": [
       "[11, 12, 22, 25, 34, 64, 90]"
      ]
     },
     "execution_count": 22,
     "metadata": {},
     "output_type": "execute_result"
    }
   ],
   "source": [
    "def bubble_sort(items):\n",
    "  \"\"\"Implementation of bubble sort.\"\"\"\n",
    "  for i in range(len(items)):\n",
    "    for j in range(len(items)-1-i):\n",
    "      if items[j] > items[j+1]:\n",
    "        items[j], items[j+1] = items[j+1], items[j]\n",
    "  return items\n",
    "\n",
    "bubble_sort(list((64, 34, 25, 12, 22, 11, 90)))"
   ]
  },
  {
   "cell_type": "markdown",
   "metadata": {},
   "source": [
    "## Question 3\n",
    "\n",
    "Rearrange the following code to correctly define a Python class representing a BankAccount with a method to deposit funds.\n",
    "\n",
    "Which of the following lines of code will open a new bank account with a balance of 100, deposit an additional 50, and print the balance?\n",
    "\n",
    "```{python}\n",
    "def deposit(self, amount):\n",
    " self.balance += amount\n",
    "class BankAccount:\n",
    " def __init__(self, balance):\n",
    " self.balance = balance\n",
    "```"
   ]
  },
  {
   "cell_type": "code",
   "execution_count": 5,
   "metadata": {},
   "outputs": [],
   "source": [
    "class BankAccount:\n",
    "  def __init__(self, balance):\n",
    "    self.balance = balance\n",
    "  \n",
    "  def deposit(self, amount):\n",
    "    self.balance += amount"
   ]
  },
  {
   "cell_type": "markdown",
   "metadata": {},
   "source": [
    "## Question 4"
   ]
  },
  {
   "cell_type": "code",
   "execution_count": 10,
   "metadata": {},
   "outputs": [
    {
     "data": {
      "text/plain": [
       "'gnimmargorp'"
      ]
     },
     "execution_count": 10,
     "metadata": {},
     "output_type": "execute_result"
    }
   ],
   "source": [
    "def r(s):\n",
    "  if len(s) == 0:\n",
    "    return s\n",
    "  return r(s[1:]) + s[0]\n",
    "\n",
    "# r('programming')\n",
    "r('programming')\n",
    "\n",
    "# r(r('programming')[4:])"
   ]
  },
  {
   "cell_type": "code",
   "execution_count": 11,
   "metadata": {},
   "outputs": [
    {
     "name": "stdout",
     "output_type": "stream",
     "text": [
      "[5, 8, 10]\n"
     ]
    }
   ],
   "source": [
    "# Question 5\n",
    "\n",
    "numbers = [-2, 5, -9, 8, -1, 10]\n",
    "result = filter(lambda x: x >= 0, numbers)\n",
    "print(list(result))"
   ]
  },
  {
   "cell_type": "code",
   "execution_count": 14,
   "metadata": {},
   "outputs": [
    {
     "data": {
      "text/plain": [
       "18.849539999999998"
      ]
     },
     "execution_count": 14,
     "metadata": {},
     "output_type": "execute_result"
    }
   ],
   "source": [
    "# Question 6\n",
    "\n",
    "class Circle:\n",
    "  def __init__(self, radius):\n",
    "    self.radius = radius\n",
    "\n",
    "  def circumference(self):\n",
    "    return 2 * 3.14159 * self.radius\n",
    "  \n",
    "Circle(3).circumference()"
   ]
  },
  {
   "cell_type": "code",
   "execution_count": 15,
   "metadata": {},
   "outputs": [
    {
     "name": "stdout",
     "output_type": "stream",
     "text": [
      "Area: 12 Perimeter: 14\n"
     ]
    }
   ],
   "source": [
    "# Question 7\n",
    "\n",
    "class Rectangle:\n",
    "  def __init__(self, width, height):\n",
    "    self.width = width\n",
    "    self.height = height\n",
    "\n",
    "  def area(self):\n",
    "    return self.width * self.height\n",
    "  \n",
    "  def perimeter(self):\n",
    "    return 2 * (self.width + self.height)\n",
    "\n",
    "\n",
    "rect = Rectangle(3, 4)\n",
    "print(\"Area:\", rect.area(), \"Perimeter:\", rect.perimeter())"
   ]
  },
  {
   "cell_type": "code",
   "execution_count": 16,
   "metadata": {},
   "outputs": [
    {
     "name": "stdout",
     "output_type": "stream",
     "text": [
      "[1, 4, 9, 16, 25]\n"
     ]
    }
   ],
   "source": [
    "# Question 8\n",
    "\n",
    "numbers = [1, 2, 3, 4, 5]\n",
    "result = map(lambda x: x**2, numbers)\n",
    "print(list(result))\n"
   ]
  },
  {
   "cell_type": "code",
   "execution_count": 19,
   "metadata": {},
   "outputs": [
    {
     "name": "stdout",
     "output_type": "stream",
     "text": [
      "44.26\n",
      "Total Area: 44.26\n"
     ]
    }
   ],
   "source": [
    "# Question 10\n",
    "\n",
    "class Shape:\n",
    "    def __init__(self, name):\n",
    "        self.name = name\n",
    "\n",
    "class Circle(Shape):\n",
    "    def __init__(self, radius):\n",
    "        super().__init__(\"Circle\")\n",
    "        self.radius = radius\n",
    "\n",
    "    def area(self):\n",
    "        return 3.14 * self.radius * self.radius\n",
    "\n",
    "class Square(Shape):\n",
    "    def __init__(self, side):\n",
    "        super().__init__(\"Square\")\n",
    "        self.side = side\n",
    "\n",
    "    def area(self):\n",
    "        return self.side * self.side\n",
    "\n",
    "circle = Circle(3)\n",
    "square = Square(4)\n",
    "\n",
    "circle_area = circle.area()\n",
    "square_area = square.area()\n",
    "\n",
    "total = circle_area + square_area\n",
    "print(total)\n",
    "total_area = circle.area() + square.area()\n",
    "print(\"Total Area:\", total_area)"
   ]
  },
  {
   "cell_type": "code",
   "execution_count": null,
   "metadata": {},
   "outputs": [],
   "source": []
  }
 ],
 "metadata": {
  "kernelspec": {
   "display_name": "dataenv",
   "language": "python",
   "name": "python3"
  },
  "language_info": {
   "codemirror_mode": {
    "name": "ipython",
    "version": 3
   },
   "file_extension": ".py",
   "mimetype": "text/x-python",
   "name": "python",
   "nbconvert_exporter": "python",
   "pygments_lexer": "ipython3",
   "version": "3.12.5"
  }
 },
 "nbformat": 4,
 "nbformat_minor": 2
}
