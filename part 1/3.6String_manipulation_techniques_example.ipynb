{
 "cells": [
  {
   "cell_type": "markdown",
   "metadata": {},
   "source": [
    "<div align=\"center\" style=\" font-size: 80%; text-align: center; margin: 0 auto\">\n",
    "<img src=\"https://raw.githubusercontent.com/Explore-AI/Pictures/master/Python-Notebook-Banners/Examples.png\"  style=\"display: block; margin-left: auto; margin-right: auto;\";/>\n",
    "</div>"
   ],
   "id": "56633ccd6d054bdf"
  },
  {
   "cell_type": "markdown",
   "id": "f662d169",
   "metadata": {},
   "source": [
    "# Examples: String manipulation techniques\n",
    "© ExploreAI Academy"
   ]
  },
  {
   "cell_type": "markdown",
   "id": "26af890c",
   "metadata": {},
   "source": [
    "In this train, we'll explore essential techniques like concatenation, replication, and slicing for effective string manipulation, as well as built-in methods that operate on string data types."
   ]
  },
  {
   "attachments": {},
   "cell_type": "markdown",
   "id": "2d230d14",
   "metadata": {
    "tags": []
   },
   "source": [
    "## Learning objectives\n",
    "\n",
    "By the end of this example notebook, we should be able to:\n",
    "- Use manipulation techniques, including concatenation, replication, and slicing, to modify, combine, and extract information from strings.\n",
    "- Use built-in methods to manipulate strings."
   ]
  },
  {
   "cell_type": "markdown",
   "metadata": {},
   "source": [
    "## Outline\n",
    "  1. [Introduction](#introduction)\n",
    "     * [Concatenation](#1-concatenation)\n",
    "     * [Replication](#2-replication)\n",
    "     * [Slicing](#3-slicing)\n",
    "  2. [Built-in string methods](#built-in-string-methods)\n",
    "     * [`upper()`](#1-upper)\n",
    "     * [`lower()`](#2-lower)\n",
    "     * [`capitalize()`](#3-capitalize)\n",
    "     * [`strip()`](#5-strip)\n",
    "     * [`replace()`](#6-replace)\n",
    "     * [`find()`](#7-find)\n",
    "  3. [Examples](#examples)\n",
    "     * [Example 1: String indexing](#example-1-string-indexing)\n",
    "     * [Example 2: String concatenation](#example-2-string-concatenation)\n",
    "     * [Example 3: String manipulation](#example-3-string-manipulation)\n",
    "     * [Example 4: String methods](#example-4-string-methods)"
   ],
   "id": "f930a175e2a04a23"
  },
  {
   "cell_type": "markdown",
   "metadata": {},
   "source": [
    "## Introduction\n",
    "\n",
    "String manipulation techniques refer to the various operations and methods used to modify, combine, or extract information from strings in a programming language. In the context of Python, here are some common string manipulation techniques:\n",
    "\n",
    "### 1. Concatenation\n",
    "\n",
    "String concatenation is the process of combining two or more strings into a single string. In Python, the `+` operator is used for concatenation. When we use the `+` operator with two strings, they are joined together, creating a new string that contains the characters of both original strings."
   ],
   "id": "205319592de7dbeb"
  },
  {
   "cell_type": "code",
   "metadata": {
    "ExecuteTime": {
     "end_time": "2024-09-18T11:45:22.500927Z",
     "start_time": "2024-09-18T11:45:22.492076Z"
    }
   },
   "source": [
    "# Example: concatenation\n",
    "\n",
    "string1 = \"Hello\"\n",
    "string2 = \"World\"\n",
    "result = string1 + \" \" + string2\n",
    "print(result)"
   ],
   "id": "b97b3a1e33b3bfb0",
   "outputs": [
    {
     "name": "stdout",
     "output_type": "stream",
     "text": [
      "Hello World\n"
     ]
    }
   ],
   "execution_count": 16
  },
  {
   "cell_type": "markdown",
   "metadata": {},
   "source": [
    "### 2. Replication\n",
    "\n",
    "String replication involves creating repeated patterns of a string. The `*` operator is used for replication. By multiplying a string with a number, we can generate a new string with multiple repetitions of the original string."
   ],
   "id": "7058f48ff1b6d347"
  },
  {
   "cell_type": "code",
   "metadata": {
    "ExecuteTime": {
     "end_time": "2024-09-18T11:45:22.749675Z",
     "start_time": "2024-09-18T11:45:22.735875Z"
    }
   },
   "source": [
    "# Example: replication\n",
    "\n",
    "original_string = \"Python\"\n",
    "replicated_string = original_string * 3\n",
    "print(replicated_string)"
   ],
   "id": "47694df9c50271fb",
   "outputs": [
    {
     "name": "stdout",
     "output_type": "stream",
     "text": [
      "PythonPythonPython\n"
     ]
    }
   ],
   "execution_count": 17
  },
  {
   "cell_type": "markdown",
   "metadata": {},
   "source": [
    "### 3. Slicing\n",
    "\n",
    "String slicing is the process of extracting specific portions of a string. It allows us to work with substrings and manipulate parts of a string as needed. Slicing in Python is done using square brackets `[]`."
   ],
   "id": "9d0c00d51584a2ed"
  },
  {
   "cell_type": "code",
   "metadata": {
    "ExecuteTime": {
     "end_time": "2024-09-18T11:45:22.822203Z",
     "start_time": "2024-09-18T11:45:22.809933Z"
    }
   },
   "source": [
    "# Example: slicing – positive indexing\n",
    "\n",
    "text = \"Python is amazing\"\n",
    "substring = text[0:6]\n",
    "print(substring)"
   ],
   "id": "fcb0d851eb2b500",
   "outputs": [
    {
     "name": "stdout",
     "output_type": "stream",
     "text": [
      "Python\n"
     ]
    }
   ],
   "execution_count": 18
  },
  {
   "cell_type": "code",
   "metadata": {
    "ExecuteTime": {
     "end_time": "2024-09-18T11:45:22.923172Z",
     "start_time": "2024-09-18T11:45:22.900116Z"
    }
   },
   "source": [
    "# Example: slicing – negative indexing 1\n",
    "\n",
    "text = \"Python is amazing\"\n",
    "substring = text[-7:-1]\n",
    "print(substring)"
   ],
   "id": "ef8bbc0da0fd9f64",
   "outputs": [
    {
     "name": "stdout",
     "output_type": "stream",
     "text": [
      "amazin\n"
     ]
    }
   ],
   "execution_count": 19
  },
  {
   "attachments": {},
   "cell_type": "markdown",
   "metadata": {},
   "source": [
    "The index `-1` corresponds to the last character 'g' in \"amazing,\" and the index `-7` corresponds to the character 'a'. When we slice the string using `text[-7:-1]`, we include the character at index `-7` and exclude the character at index `-1`. Therefore, we get the substring \"amazin\" which includes the characters from 'a' to 'n' but excludes the last 'g'.\n",
    "\n",
    "To include the last character 'g', we can modify the slicing to `text[-7:]`, which means \"start from index -7 and go until the end of the string\"."
   ],
   "id": "8d981ae70db5fc74"
  },
  {
   "cell_type": "code",
   "metadata": {
    "ExecuteTime": {
     "end_time": "2024-09-18T11:45:22.999482Z",
     "start_time": "2024-09-18T11:45:22.986160Z"
    }
   },
   "source": [
    "# Example: slicing – negative indexing 2\n",
    "\n",
    "text = \"Python is amazing\"\n",
    "substring = text[-7:]\n",
    "print(substring)"
   ],
   "id": "84fe7df29a712bad",
   "outputs": [
    {
     "name": "stdout",
     "output_type": "stream",
     "text": [
      "amazing\n"
     ]
    }
   ],
   "execution_count": 20
  },
  {
   "cell_type": "markdown",
   "metadata": {},
   "source": [
    "## Built-in string methods\n",
    "\n",
    "In Python, built-in methods are pre-defined functions that operate on various data types, including strings. These methods provide a powerful set of tools for manipulating and transforming string data. Unlike standalone functions, methods are associated with specific data types and can be directly applied to instances of those types.\n",
    "\n",
    "Understanding and utilising built-in string methods is crucial for effective string manipulation. These methods streamline common operations, making code more concise, readable, and efficient. By leveraging these methods, developers can perform tasks such as modifying case, formatting, and joining strings with greater ease."
   ],
   "id": "6312b303ce95a4e6"
  },
  {
   "cell_type": "markdown",
   "metadata": {},
   "source": [
    "### 1. `upper()`\n",
    "\n",
    "The `upper()` method transforms all characters in a string to uppercase."
   ],
   "id": "37f28193a5192234"
  },
  {
   "cell_type": "code",
   "metadata": {
    "ExecuteTime": {
     "end_time": "2024-09-18T11:45:23.073173Z",
     "start_time": "2024-09-18T11:45:23.062017Z"
    }
   },
   "source": [
    "# Example: upper() method\n",
    "\n",
    "original_string = \"hello, world!\"\n",
    "uppercase_string = original_string.upper()\n",
    "print(uppercase_string)"
   ],
   "id": "bbb67a520ffd3b32",
   "outputs": [
    {
     "name": "stdout",
     "output_type": "stream",
     "text": [
      "HELLO, WORLD!\n"
     ]
    }
   ],
   "execution_count": 21
  },
  {
   "cell_type": "markdown",
   "metadata": {},
   "source": [
    "### 2. `lower()`\n",
    "\n",
    "The `lower()` method converts all characters in a string to lowercase."
   ],
   "id": "2244d57724e10c37"
  },
  {
   "cell_type": "code",
   "metadata": {
    "ExecuteTime": {
     "end_time": "2024-09-18T11:45:23.129318Z",
     "start_time": "2024-09-18T11:45:23.120068Z"
    }
   },
   "source": [
    "# Example: lower() method\n",
    "\n",
    "original_string = \"Hello, World!\"\n",
    "lowercase_string = original_string.lower()\n",
    "print(lowercase_string)"
   ],
   "id": "a56d75212f010f0f",
   "outputs": [
    {
     "name": "stdout",
     "output_type": "stream",
     "text": [
      "hello, world!\n"
     ]
    }
   ],
   "execution_count": 22
  },
  {
   "cell_type": "markdown",
   "metadata": {},
   "source": [
    "### 3. `capitalize()`\n",
    "\n",
    "The `capitalize()` method capitalises the first character of a string."
   ],
   "id": "e6e39ec20871789e"
  },
  {
   "cell_type": "code",
   "metadata": {
    "ExecuteTime": {
     "end_time": "2024-09-18T11:45:23.219231Z",
     "start_time": "2024-09-18T11:45:23.207467Z"
    }
   },
   "source": [
    "# Example: capitalize() method\n",
    "\n",
    "original_string = \"hello, world!\"\n",
    "capitalised_string = original_string.capitalize()\n",
    "print(capitalised_string)"
   ],
   "id": "795faadb523c148d",
   "outputs": [
    {
     "name": "stdout",
     "output_type": "stream",
     "text": [
      "Hello, world!\n"
     ]
    }
   ],
   "execution_count": 23
  },
  {
   "cell_type": "markdown",
   "metadata": {},
   "source": [
    "### 4. `strip()` \n",
    "\n",
    "The `strip()` method is used to remove leading and trailing whitespaces from a string. This is particularly useful when dealing with user inputs or processing data from external sources."
   ],
   "id": "3b4cb54d45ed9a49"
  },
  {
   "cell_type": "code",
   "metadata": {
    "ExecuteTime": {
     "end_time": "2024-09-18T11:45:23.312748Z",
     "start_time": "2024-09-18T11:45:23.299589Z"
    }
   },
   "source": [
    "# Example: strip() method\n",
    "\n",
    "raw_input = \"    This is a sentence with spaces.    \"\n",
    "trimmed_input = raw_input.strip()\n",
    "print(trimmed_input)"
   ],
   "id": "10985b02f4de1345",
   "outputs": [
    {
     "name": "stdout",
     "output_type": "stream",
     "text": [
      "This is a sentence with spaces.\n"
     ]
    }
   ],
   "execution_count": 24
  },
  {
   "cell_type": "markdown",
   "metadata": {},
   "source": [
    "### 5. `replace()`\n",
    "\n",
    "The `replace()` method facilitates the substitution of specific substrings within a string. This is beneficial when we need to modify or update specific parts of a text.\n",
    "\n",
    "Utilising `replace()` is a common practice for dynamic content generation or when adapting text to different contexts."
   ],
   "id": "718323bba873b9d9"
  },
  {
   "cell_type": "code",
   "metadata": {
    "ExecuteTime": {
     "end_time": "2024-09-18T11:45:23.434436Z",
     "start_time": "2024-09-18T11:45:23.415122Z"
    }
   },
   "source": [
    "# Example: replace() method\n",
    "\n",
    "original_text = \"Python is a powerful programming language.\"\n",
    "modified_text = original_text.replace(\"Python\", \"JavaScript\")\n",
    "print(modified_text)"
   ],
   "id": "8d1424df293f0f04",
   "outputs": [
    {
     "name": "stdout",
     "output_type": "stream",
     "text": [
      "JavaScript is a powerful programming language.\n"
     ]
    }
   ],
   "execution_count": 25
  },
  {
   "cell_type": "markdown",
   "metadata": {},
   "source": [
    "### 6. `find()`\n",
    "\n",
    "The `find()` method is employed to locate the index of a substring within a string. It returns the index of the first occurrence of the specified substring or `-1` if the substring is not found.\n",
    "\n",
    "This method is particularly handy for tasks such as parsing data or extracting specific information from strings based on known patterns."
   ],
   "id": "34ed441fdfa923b3"
  },
  {
   "cell_type": "code",
   "metadata": {
    "ExecuteTime": {
     "end_time": "2024-09-18T11:45:23.491798Z",
     "start_time": "2024-09-18T11:45:23.481347Z"
    }
   },
   "source": [
    "sentence = \"Searching for a keyword in this sentence.\"\n",
    "index = sentence.find(\"keyword\")\n",
    "print(index)"
   ],
   "id": "9c50d5069b6ae6e2",
   "outputs": [
    {
     "name": "stdout",
     "output_type": "stream",
     "text": [
      "16\n"
     ]
    }
   ],
   "execution_count": 26
  },
  {
   "attachments": {},
   "cell_type": "markdown",
   "metadata": {},
   "source": [
    "## Examples\n",
    "\n",
    "Now that we have gone through the theory, let's get our hands dirty by trying out some example problems! \n",
    "\n"
   ],
   "id": "20b5367a6c500338"
  },
  {
   "cell_type": "markdown",
   "metadata": {},
   "source": [
    "### Example 1: String concatenation\n",
    "\n",
    "Imagine we are building a greeting message generator. We have three strings: `greeting`, `name`, and `punctuation`. Our task is to concatenate these strings to create a personalised greeting message. The greeting and punctuation strings are fixed, but the name can vary."
   ],
   "id": "8d0259d245e06490"
  },
  {
   "cell_type": "code",
   "metadata": {
    "ExecuteTime": {
     "end_time": "2024-09-18T11:45:23.569722Z",
     "start_time": "2024-09-18T11:45:23.554313Z"
    }
   },
   "source": [
    "greeting = \"Hey\"\n",
    "name = \"Alice\"\n",
    "punctuation = \"!\"\n",
    "\n",
    "personalised_greeting = greeting + \" \" + name + punctuation\n",
    "print(personalised_greeting)"
   ],
   "id": "3bb1afdb72e997d",
   "outputs": [
    {
     "name": "stdout",
     "output_type": "stream",
     "text": [
      "Hey Alice!\n"
     ]
    }
   ],
   "execution_count": 27
  },
  {
   "cell_type": "code",
   "metadata": {
    "ExecuteTime": {
     "end_time": "2024-09-18T11:45:23.603617Z",
     "start_time": "2024-09-18T11:45:23.585369Z"
    }
   },
   "source": [
    "# Solution for Example 1\n",
    "greeting = \"Hey\"\n",
    "name = \"Alice\"\n",
    "punctuation = \"!\"\n",
    "\n",
    "personalised_greeting = greeting + \" \" + name + punctuation\n",
    "\n",
    "print(personalised_greeting)"
   ],
   "id": "303d7e4582406681",
   "outputs": [
    {
     "name": "stdout",
     "output_type": "stream",
     "text": [
      "Hey Alice!\n"
     ]
    }
   ],
   "execution_count": 28
  },
  {
   "cell_type": "markdown",
   "metadata": {},
   "source": [
    "### Example 2: Replication \n",
    "\n",
    "We are developing a program that requires a repeated pattern of characters. We have a string pattern that needs to be repeated five times. Our task is to use string replication to achieve this."
   ],
   "id": "4d8e19ace9af3a3"
  },
  {
   "cell_type": "code",
   "metadata": {
    "ExecuteTime": {
     "end_time": "2024-09-18T11:45:23.659520Z",
     "start_time": "2024-09-18T11:45:23.650512Z"
    }
   },
   "source": [
    "pattern = \"ABC\"\n",
    "\n",
    "repeated_pattern = pattern * 5\n",
    "\n",
    "print(repeated_pattern)"
   ],
   "id": "fe07309cf11a94aa",
   "outputs": [
    {
     "name": "stdout",
     "output_type": "stream",
     "text": [
      "ABCABCABCABCABC\n"
     ]
    }
   ],
   "execution_count": 29
  },
  {
   "cell_type": "code",
   "metadata": {
    "ExecuteTime": {
     "end_time": "2024-09-18T11:45:23.717929Z",
     "start_time": "2024-09-18T11:45:23.706429Z"
    }
   },
   "source": [
    "# Solution for Example 2\n",
    "pattern = \"ABC\"\n",
    "\n",
    "repeated_pattern = pattern * 5\n",
    "print(repeated_pattern)"
   ],
   "id": "c1f799c0453bcff7",
   "outputs": [
    {
     "name": "stdout",
     "output_type": "stream",
     "text": [
      "ABCABCABCABCABC\n"
     ]
    }
   ],
   "execution_count": 30
  },
  {
   "cell_type": "markdown",
   "metadata": {},
   "source": [
    "### Example 3: String manipulation \n",
    "\n",
    "Given the string below:\n",
    "* Convert the entire string to uppercase.\n",
    "* Capitalise the first letter of the string.\n",
    "* Replace the word \"string\" with \"text.\""
   ],
   "id": "507376308c8e2fd2"
  },
  {
   "cell_type": "code",
   "metadata": {
    "ExecuteTime": {
     "end_time": "2024-09-18T11:45:23.807578Z",
     "start_time": "2024-09-18T11:45:23.796070Z"
    }
   },
   "source": [
    "manipulation_string = \"python string manipulation\"\n",
    "\n",
    "print(manipulation_string.upper())\n",
    "print(manipulation_string.capitalize())\n",
    "print(manipulation_string.replace(\"string\", \"text\"))"
   ],
   "id": "6a7e5c85512cc9b",
   "outputs": [
    {
     "name": "stdout",
     "output_type": "stream",
     "text": [
      "PYTHON STRING MANIPULATION\n",
      "Python string manipulation\n",
      "python text manipulation\n"
     ]
    }
   ],
   "execution_count": 31
  },
  {
   "cell_type": "code",
   "metadata": {
    "ExecuteTime": {
     "end_time": "2024-09-18T11:45:23.866348Z",
     "start_time": "2024-09-18T11:45:23.856172Z"
    }
   },
   "source": [
    "# Solution for Example 3\n",
    "manipulation_string = \"python string manipulation\"\n",
    "\n",
    "# Task 1\n",
    "uppercase_string = manipulation_string.upper()\n",
    "print(uppercase_string)\n",
    "\n",
    "# Task 2\n",
    "capitalised_string = manipulation_string.capitalize()\n",
    "print(capitalised_string)\n",
    "\n",
    "# Task 3\n",
    "modified_string = manipulation_string.replace(\"string\", \"text\")\n",
    "print(modified_string)"
   ],
   "id": "65612ab8b0c1a7e5",
   "outputs": [
    {
     "name": "stdout",
     "output_type": "stream",
     "text": [
      "PYTHON STRING MANIPULATION\n",
      "Python string manipulation\n",
      "python text manipulation\n"
     ]
    }
   ],
   "execution_count": 32
  },
  {
   "cell_type": "markdown",
   "metadata": {},
   "source": [
    "### Example 4: String methods \n",
    "\n",
    "Given the following string, replace all occurrences of \"apple\" with \"orange\", and print the result."
   ],
   "id": "c342a4db3147b433"
  },
  {
   "cell_type": "code",
   "metadata": {
    "ExecuteTime": {
     "end_time": "2024-09-18T11:45:23.960115Z",
     "start_time": "2024-09-18T11:45:23.948447Z"
    }
   },
   "source": [
    "complex_string = \"apple pie, apple juice, apple tart\"\n",
    "\n",
    "complex_string = complex_string.replace(\"apple\", \"orange\")\n",
    "print(complex_string)"
   ],
   "id": "ccc4c0ff1190da87",
   "outputs": [
    {
     "name": "stdout",
     "output_type": "stream",
     "text": [
      "orange pie, orange juice, orange tart\n"
     ]
    }
   ],
   "execution_count": 33
  },
  {
   "cell_type": "code",
   "metadata": {
    "ExecuteTime": {
     "end_time": "2024-09-18T11:45:24.025932Z",
     "start_time": "2024-09-18T11:45:24.007015Z"
    }
   },
   "source": [
    "# Solution for Example 4\n",
    "\n",
    "modified_string = complex_string.replace(\"apple\", \"orange\")\n",
    "print(modified_string)"
   ],
   "id": "5314549b5d49cb5d",
   "outputs": [
    {
     "name": "stdout",
     "output_type": "stream",
     "text": [
      "orange pie, orange juice, orange tart\n"
     ]
    }
   ],
   "execution_count": 34
  },
  {
   "cell_type": "markdown",
   "id": "26fd094b-0fee-46f1-a4b8-73766813c42b",
   "metadata": {
    "tags": []
   },
   "source": [
    "#  \n",
    "\n",
    "<div align=\"center\" style=\" font-size: 80%; text-align: center; margin: 0 auto\">\n",
    "<img src=\"https://raw.githubusercontent.com/Explore-AI/Pictures/master/ExploreAI_logos/EAI_Blue_Dark.png\"  style=\"width:200px\";/>\n",
    "</div>"
   ]
  }
 ],
 "metadata": {
  "kernelspec": {
   "display_name": "Python 3 (ipykernel)",
   "language": "python",
   "name": "python3"
  },
  "language_info": {
   "codemirror_mode": {
    "name": "ipython",
    "version": 3
   },
   "file_extension": ".py",
   "mimetype": "text/x-python",
   "name": "python",
   "nbconvert_exporter": "python",
   "pygments_lexer": "ipython3",
   "version": "3.9.6"
  }
 },
 "nbformat": 4,
 "nbformat_minor": 5
}
