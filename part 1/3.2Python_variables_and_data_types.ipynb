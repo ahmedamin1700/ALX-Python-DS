{
 "cells": [
  {
   "cell_type": "markdown",
   "metadata": {},
   "source": [
    "<div align=\"center\" style=\" font-size: 80%; text-align: center; margin: 0 auto\">\n",
    "<img src=\"https://raw.githubusercontent.com/Explore-AI/Pictures/master/Python-Notebook-Banners/Examples.png\"  style=\"display: block; margin-left: auto; margin-right: auto;\";/>\n",
    "</div>"
   ],
   "id": "5ebb4f56594adf6d"
  },
  {
   "cell_type": "markdown",
   "id": "f662d169",
   "metadata": {},
   "source": [
    "# Examples: Python variables and data types\n",
    "© ExploreAI Academy"
   ]
  },
  {
   "cell_type": "markdown",
   "id": "26af890c",
   "metadata": {},
   "source": [
    "In this notebook, we'll be looking at using variables and storing different data types. In Python, there are certain core data types used to manipulate and store data.\n",
    "\n"
   ]
  },
  {
   "cell_type": "markdown",
   "id": "2d230d14",
   "metadata": {
    "tags": []
   },
   "source": [
    "## Learning Objectives\n",
    "By the end of this train, you should be able to:\n",
    " \n",
    "* Understand how to create a variable in Python using the `PEP 8` naming conventions.\n",
    "* Know what the different data types are and their characteristics"
   ]
  },
  {
   "cell_type": "markdown",
   "metadata": {},
   "source": [
    "## Outline\n",
    "  1. [Introduction](#introduction)\n",
    "  2. [Variables](#variables)\n",
    "     * [Assigning a variable](#assigning-a-variable)\n",
    "     * [Reassigning a variable](#reassigning-a-variable)\n",
    "       * [The `id()` function](#the-id-function)\n",
    "     * [Memory allocation and memory pointer](#memory-allocation-and-memory-pointer)\n",
    "     * [Variable naming conventions (PEP 8)](#variable-naming-conventions-pep-8)\n",
    "       * [Rules](#rules)\n",
    "       * [Case types](#case-types)\n",
    "  3. [Data types](#data-types)\n",
    "      * [Numbers](#a-numbers)\n",
    "      * [Strings](#b-strings)\n",
    "      * [Booleans](#c-booleans)\n",
    "  4. [Conclusion](#conclusion)\n",
    "  5. [Appendix](#appendix)"
   ],
   "id": "51e70b5b945778c0"
  },
  {
   "cell_type": "markdown",
   "id": "ab35e88a",
   "metadata": {},
   "source": [
    "## Introduction\n",
    "\n",
    "Python is globally a very popular programming language, used across fields such as software development, data science,  and AI. These use cases require data to be stored efficiently and in such a way that it can be accessed quickly. Python achieves this through its core concepts that form the backbone of effective programming. \n",
    "\n",
    "\n",
    "As an introduction to these concepts, we'll delve into variables, understand the intricacies of memory allocation, navigate the best practices for naming conventions, and embark on a journey through the diverse landscape of Python's data types.\n",
    "\n",
    "A strong grasp of these fundamental concepts is paramount in the realm of programming. **Variables** serve as the **building blocks** for manipulating and organising data, while **memory allocation** determines how efficiently our program utilises **system resources**. Adhering to **naming conventions** not only enhances **code readability** but also promotes consistency across projects. As we explore the rich tapestry of Python's data types, we'll gain insights into handling numerical values, strings, and booleans and discover the power of functions like `round()`."
   ]
  },
  {
   "cell_type": "markdown",
   "id": "034f39bd",
   "metadata": {},
   "source": [
    "## Variables\n",
    "\n",
    "A variable is a **named storage location used to store data in a program**. It is a way to give a name to a **memory location**, making it easier to **reference and manipulate data**. Variables are used in various programming tasks, such as calculations, storage, and manipulation of data."
   ]
  },
  {
   "cell_type": "markdown",
   "id": "f8c6653d",
   "metadata": {},
   "source": [
    "### Assigning a variable\n",
    "\n",
    "Assigning a variable in programming refers to the process of **associating a value with a symbolic name** (the variable name) so that the program can **refer to and manipulate that value** using the given name. It is essentially storing a piece of data in a memory location and giving it a label for convenient reference.\n",
    "\n",
    "#### To assign a variable, we need three components:\n",
    "\n",
    "* **Variable name**: We can decide what we would like to name our variable but keep in mind it can be short and descriptive. We will learn about certain naming conventions we must follow in a bit.\n",
    "\n",
    "* **Assignment operator**: The variable name will be followed by the assignment operator. The assignment operator is an equal sign (`=`).\n",
    "\n",
    "* **The value**: The value we assign to a variable can be numerical or consist of characters, known as strings. In this part of the lesson, we will only be focusing on using numerical values."
   ]
  },
  {
   "cell_type": "markdown",
   "id": "3d3d485b",
   "metadata": {},
   "source": [
    "<div align=\"center\" style=\"width: 100%; font-size: 80%; text-align: center; margin: 0 auto\">\n",
    "<img src=\"https://raw.githubusercontent.com/Explore-AI/Pictures/master/Variable_assignment.jpg\"\n",
    "     alt=\"Variable assignment\"\n",
    "     style=\"float: center; padding-bottom=0.5em\"\n",
    "     width=70%/>\n",
    "     \n",
    "<em>Figure 1: Variable assignment </em>\n",
    "</div>"
   ]
  },
  {
   "cell_type": "markdown",
   "id": "4639d9b0",
   "metadata": {},
   "source": [
    "We assign values to variables for the following reasons:\n",
    "\n",
    "* To label and store information in memory.\n",
    "* This information can then be referenced later on and even be manipulated.\n",
    "* It makes it easier for a reader, and even ourselves, to understand our code.\n",
    "\n",
    "Let's look at some examples."
   ]
  },
  {
   "cell_type": "code",
   "id": "a41b7122",
   "metadata": {
    "ExecuteTime": {
     "end_time": "2024-09-17T18:41:32.900322Z",
     "start_time": "2024-09-17T18:41:32.880786Z"
    }
   },
   "source": [
    "# Assign x to have a value of 5\n",
    "x = 5\n",
    "\n",
    "# Print the value of x\n",
    "print(x)"
   ],
   "outputs": [
    {
     "name": "stdout",
     "output_type": "stream",
     "text": [
      "5\n"
     ]
    }
   ],
   "execution_count": 1
  },
  {
   "cell_type": "markdown",
   "id": "1282f684",
   "metadata": {},
   "source": [
    "The variable `x` is assigned the value `5` in memory. Every time we call `x` our system will know to use the value `5`.\n",
    "\n",
    "**Multiple variables can be assigned** in a single line. The values will be assigned to the variables in corresponding order."
   ]
  },
  {
   "cell_type": "code",
   "id": "9ad111b5",
   "metadata": {
    "ExecuteTime": {
     "end_time": "2024-09-17T18:42:00.358961Z",
     "start_time": "2024-09-17T18:42:00.345994Z"
    }
   },
   "source": [
    "# Assign multiple variables\n",
    "a, b, c = 10.5, 12, 14\n",
    "\n",
    "# Let's look at the values of a, b, and c\n",
    "print(a)\n",
    "print(b)\n",
    "print(c)"
   ],
   "outputs": [
    {
     "name": "stdout",
     "output_type": "stream",
     "text": [
      "10.5\n",
      "12\n",
      "14\n"
     ]
    }
   ],
   "execution_count": 2
  },
  {
   "cell_type": "markdown",
   "id": "2e4ee8eb",
   "metadata": {},
   "source": [
    "It is also possible to assign a variable to a previously defined variable."
   ]
  },
  {
   "cell_type": "code",
   "id": "b8757cc6",
   "metadata": {
    "ExecuteTime": {
     "end_time": "2024-09-17T18:42:22.430426Z",
     "start_time": "2024-09-17T18:42:22.410580Z"
    }
   },
   "source": [
    "# Assign 8 to a variable\n",
    "initial_var = 8\n",
    "\n",
    "# Assign a variable to the variable initial_var\n",
    "even_num = initial_var\n",
    "\n",
    "# Look at the value of the variable\n",
    "print(even_num)"
   ],
   "outputs": [
    {
     "name": "stdout",
     "output_type": "stream",
     "text": [
      "8\n"
     ]
    }
   ],
   "execution_count": 3
  },
  {
   "cell_type": "markdown",
   "id": "e3d76603",
   "metadata": {},
   "source": [
    "Even though we never directly assigned `8` to `even_num`, we were still able to do it by assigning `even_num` to a previously defined variable `initial_var`."
   ]
  },
  {
   "cell_type": "markdown",
   "id": "2df0421f",
   "metadata": {},
   "source": [
    "### Reassigning a variable\n",
    "It is possible to change the value assigned to a variable. Just use the same variable name and assign the updated (new) value to it.\n",
    "\n",
    "Let's look at how this is done."
   ]
  },
  {
   "cell_type": "code",
   "id": "8c6bf80f",
   "metadata": {
    "ExecuteTime": {
     "end_time": "2024-09-17T18:42:57.733415Z",
     "start_time": "2024-09-17T18:42:57.720904Z"
    }
   },
   "source": [
    "# Check the current value of x\n",
    "print(x)\n",
    "\n",
    "# Reassign x to have a value of 13\n",
    "x = 13\n",
    "\n",
    "# Print the new/updated value of x\n",
    "print(x)"
   ],
   "outputs": [
    {
     "name": "stdout",
     "output_type": "stream",
     "text": [
      "5\n",
      "13\n"
     ]
    }
   ],
   "execution_count": 4
  },
  {
   "cell_type": "markdown",
   "id": "dd1916d1",
   "metadata": {},
   "source": [
    "Going forward, the value for `x` stored in our system’s memory is 13, and the value 5 is no longer connected to `x`. \n",
    "\n",
    "**🛠️ Try it yourself**: Rerun the code above. Did anything change?"
   ]
  },
  {
   "cell_type": "markdown",
   "metadata": {},
   "source": [
    "#### The `id()` function\n",
    "\n",
    "Now, there's also an interesting aspect related to memory addresses. If we were to assign the value `13` to `y`, the memory pointer would be the same for `y` as for `x`. We can test and visualise this using the `id()` function."
   ],
   "id": "55042274472e672d"
  },
  {
   "cell_type": "code",
   "metadata": {
    "ExecuteTime": {
     "end_time": "2024-09-17T18:43:49.009778Z",
     "start_time": "2024-09-17T18:43:48.997934Z"
    }
   },
   "source": [
    "# Assign the value 13 to y\n",
    "y = 13\n",
    "\n",
    "# Print the memory address of x and y\n",
    "print(\"Memory address of x:\", id(x))\n",
    "print(\"Memory address of y:\", id(y))"
   ],
   "id": "c29c1b02fc972ec2",
   "outputs": [
    {
     "name": "stdout",
     "output_type": "stream",
     "text": [
      "Memory address of x: 140720733799592\n",
      "Memory address of y: 140720733799592\n"
     ]
    }
   ],
   "execution_count": 5
  },
  {
   "cell_type": "markdown",
   "metadata": {},
   "source": [
    "However, if we were to update `x` to be the value of `5`, it would have a new address. This occurs because we're storing the values in memory, rather than maintaining the original variable associations to that address. "
   ],
   "id": "91ffcbb73caa4c10"
  },
  {
   "cell_type": "code",
   "metadata": {
    "ExecuteTime": {
     "end_time": "2024-09-17T18:44:07.600721Z",
     "start_time": "2024-09-17T18:44:07.581397Z"
    }
   },
   "source": [
    "# Assign the value 5 to x\n",
    "x = 5\n",
    "\n",
    "# Print the memory address of x and y\n",
    "print(\"Memory address of x:\", id(x))\n",
    "print(\"Memory address of y:\", id(y))"
   ],
   "id": "cc0b187502b04816",
   "outputs": [
    {
     "name": "stdout",
     "output_type": "stream",
     "text": [
      "Memory address of x: 140720733799336\n",
      "Memory address of y: 140720733799592\n"
     ]
    }
   ],
   "execution_count": 6
  },
  {
   "cell_type": "markdown",
   "id": "6d32ce7c",
   "metadata": {},
   "source": [
    "### Memory allocation and memory pointer\n",
    "\n",
    "**Memory allocation:**\n",
    "When a variable is declared in Python, the interpreter allocates a section of the computer's memory to store the data associated with that variable. This reserved space is where the value of the variable is stored during the program's execution.\n",
    "\n",
    "**Memory pointer:**\n",
    "The memory pointer, in simple terms, is like an address label for the allocated memory space. It points to the exact location in the computer's memory where the variable's data is stored. This pointer allows the program to efficiently access and retrieve the stored information when needed."
   ]
  },
  {
   "cell_type": "markdown",
   "id": "7695053e",
   "metadata": {},
   "source": [
    "For example, when the variable `x` in *Figure 1* is assigned the value of `5`, Python allocates a specific memory space to store this integer value. The memory pointer associated with `x` then points to the starting address of this allocated memory, facilitating easy retrieval and manipulation of the stored data during the program's execution.\n",
    "\n",
    "<div align=\"center\" style=\"width: 100px; font-size: 80%; text-align: center; margin: 0 auto\">\n",
    "<img src=\"https://raw.githubusercontent.com/Explore-AI/Pictures/master/OOP_memory_allocation.jpg\"\n",
    "     alt=\"Variable assignment\"\n",
    "     style=\"float: center; padding-bottom=0.5em\"\n",
    "     width=100px/>\n",
    "<em>Figure 2: Memory allocation and pointer </em>\n",
    "</div>\n",
    "\n",
    "Understanding memory allocation and pointers are crucial for optimising code performance and managing resources effectively in Python."
   ]
  },
  {
   "cell_type": "markdown",
   "id": "1aab8d55",
   "metadata": {},
   "source": [
    "### Variable naming conventions (PEP 8)\n",
    "PEP 8, or \"Python Enhancement Proposal 8\", is the style guide for Python code. It includes recommendations on how to format Python code to make it more readable and consistent. Regarding variable naming conventions, PEP 8 provides the following guidelines:"
   ]
  },
  {
   "cell_type": "markdown",
   "id": "809777a7",
   "metadata": {},
   "source": [
    "#### Rules\n",
    "\n",
    "When naming variables, certain **rules** must be followed:\n",
    "\n",
    "|Rule |Example |\n",
    "|---|---|\n",
    "|Must start with a letter or underscore |`myvarname` or `_myvarname` |\n",
    "|Not allowed to start with a number |`2myvarname`  |\n",
    "|Only allowed to contain alpha-numeric characters and underscores  |`myvarname_2`|\n",
    "|Variable names are case-sensitive |`myvar` $\\neq$ `Myvar`|"
   ]
  },
  {
   "cell_type": "markdown",
   "id": "aa0d2c78",
   "metadata": {},
   "source": [
    "#### Case types\n",
    "\n",
    "It is also important to be consistent when using a naming convention for variables.\n",
    "We can use the following case types to ensure consistency:\n",
    "\n",
    "|Case type |Description |Example |\n",
    "|---|---|---|\n",
    "|Pascal case |All the first letters in the variable name are capitalised, with no spaces and characters between the words |`MyVarName` |\n",
    "|Camel case |The first word's letter is not capitalised, and it doesn't have any characters between the words |`myVarName` |\n",
    "|Snake case |Words are separated by underscores and usually all lowercase |`my_var_name` |\n",
    "\n",
    "Let's do a few examples of assigning variables."
   ]
  },
  {
   "cell_type": "code",
   "metadata": {
    "ExecuteTime": {
     "end_time": "2024-09-17T18:54:26.562867Z",
     "start_time": "2024-09-17T18:54:26.548676Z"
    }
   },
   "source": [
    "# Pascal case\n",
    "ThisIsMyVar = 8"
   ],
   "id": "26b0d3ae98ff976",
   "outputs": [],
   "execution_count": 7
  },
  {
   "cell_type": "code",
   "id": "7826fb32",
   "metadata": {
    "ExecuteTime": {
     "end_time": "2024-09-17T18:54:31.797985Z",
     "start_time": "2024-09-17T18:54:31.783758Z"
    }
   },
   "source": [
    "# Camel case\n",
    "thisIsMyVar = 8"
   ],
   "outputs": [],
   "execution_count": 8
  },
  {
   "cell_type": "code",
   "id": "e0af9a0e",
   "metadata": {
    "ExecuteTime": {
     "end_time": "2024-09-17T18:54:34.106337Z",
     "start_time": "2024-09-17T18:54:34.082871Z"
    }
   },
   "source": [
    "# Snake case\n",
    "this_is_my_var = 8"
   ],
   "outputs": [],
   "execution_count": 9
  },
  {
   "cell_type": "code",
   "id": "f8007493",
   "metadata": {
    "ExecuteTime": {
     "end_time": "2024-09-17T18:54:36.201431Z",
     "start_time": "2024-09-17T18:54:36.180859Z"
    }
   },
   "source": [
    "# Starting a variable name with an underscore\n",
    "_MyVar = 8"
   ],
   "outputs": [],
   "execution_count": 10
  },
  {
   "cell_type": "code",
   "id": "1edd2178",
   "metadata": {
    "ExecuteTime": {
     "end_time": "2024-09-17T18:54:37.215142Z",
     "start_time": "2024-09-17T18:54:37.204003Z"
    }
   },
   "source": [
    "# Using numbers in a variable name\n",
    "this_is_my_var_2 = 8"
   ],
   "outputs": [],
   "execution_count": 11
  },
  {
   "cell_type": "code",
   "id": "65146798",
   "metadata": {
    "ExecuteTime": {
     "end_time": "2024-09-17T18:54:46.783446Z",
     "start_time": "2024-09-17T18:54:46.769444Z"
    }
   },
   "source": [
    "# Starting a variable name with a number\n",
    "_this_is_my_var = 8"
   ],
   "outputs": [],
   "execution_count": 13
  },
  {
   "cell_type": "markdown",
   "id": "7a9b1206",
   "metadata": {},
   "source": [
    "It is clear from the example above that starting a variable name with a number is not allowed."
   ]
  },
  {
   "cell_type": "markdown",
   "id": "deb548b3",
   "metadata": {},
   "source": [
    "## Data types\n",
    "\n",
    "Like other programming languages, variables in Python have **values** and **types**. **Data types** dictate what **kind of data a variable can store** and, in some cases, the **amount of memory** allocated to it. Allocating variable types allows us to make assumptions about the **kind of operations** that can be applied to a given variable. \n",
    "\n",
    "Python makes use of five primitive variable types:\n",
    "* Integers\n",
    "* Floats \n",
    "* Complex numbers\n",
    "* Strings\n",
    "* Booleans"
   ]
  },
  {
   "cell_type": "markdown",
   "id": "b6821577",
   "metadata": {},
   "source": [
    "#### (a) Numbers\n",
    "\n",
    "Three main data types exist to store numerical data:"
   ]
  },
  {
   "cell_type": "markdown",
   "id": "e8184b9c",
   "metadata": {},
   "source": [
    "1. **Integers (ints)**: These are positive or negative whole numbers with no fractional components. By using built-in functions in Python, such as  `type()`,  we can determine if a number is an integer or a float, for example, 5, -10. \n",
    "\n",
    "2. **Floats**: This is another numerical data type that is used to represent real numbers. A decimal point is used to divide the integer and fractional components of the value, for example, 3.14, -0.5.\n",
    "\n",
    "3. **Complex numbers**: A complex number is a distinct data type used to represent numbers in the form `a + bj`, where `a` and `b` are real numbers, and `j` is the imaginary unit (for example, the square root of -1). Complex numbers play a crucial role in various mathematical and engineering applications, and Python provides native support for them, for example, 2 + 3j, 1 - 1j."
   ]
  },
  {
   "cell_type": "markdown",
   "id": "d6fad384",
   "metadata": {},
   "source": [
    "#### <a name =\"Introduction\">(b) Strings</a>\n",
    "\n",
    "Strings in Python are **sequences of characters enclosed in quotes**, either single (') or double (\"). They are versatile and widely used for representing textual data.\n",
    "\n",
    "Characteristics of strings include:"
   ]
  },
  {
   "cell_type": "markdown",
   "id": "f93080c3",
   "metadata": {},
   "source": [
    "* **Sequence of characters**: Strings can contain letters, numbers, symbols, and spaces."
   ]
  },
  {
   "cell_type": "code",
   "id": "1776837f",
   "metadata": {
    "ExecuteTime": {
     "end_time": "2024-09-17T18:57:03.696938Z",
     "start_time": "2024-09-17T18:57:03.682071Z"
    }
   },
   "source": [
    "# Example\n",
    "hello_string = \"Hello, Python!\"\n",
    "\n",
    "# Print the value of hello_string\n",
    "print(hello_string)"
   ],
   "outputs": [
    {
     "name": "stdout",
     "output_type": "stream",
     "text": [
      "Hello, Python!\n"
     ]
    }
   ],
   "execution_count": 14
  },
  {
   "cell_type": "markdown",
   "id": "7bf17ef2",
   "metadata": {},
   "source": [
    "* **Immutable**: Once a string is defined, its content cannot be changed. Any operation that appears to modify a string actually creates a new string."
   ]
  },
  {
   "cell_type": "code",
   "id": "da28c4f0",
   "metadata": {
    "ExecuteTime": {
     "end_time": "2024-09-17T18:57:22.725103Z",
     "start_time": "2024-09-17T18:57:22.711553Z"
    }
   },
   "source": [
    "# Example\n",
    "original_string = \"Hello\"\n",
    "modified_string = original_string + \", Python!\"\n",
    "\n",
    "# Print the values of our variables\n",
    "print(original_string)\n",
    "print(modified_string)"
   ],
   "outputs": [
    {
     "name": "stdout",
     "output_type": "stream",
     "text": [
      "Hello\n",
      "Hello, Python!\n"
     ]
    }
   ],
   "execution_count": 15
  },
  {
   "cell_type": "markdown",
   "id": "1f19b3e9",
   "metadata": {},
   "source": [
    "#### (c) Booleans\n",
    "\n",
    "Booleans are built-in data types capable of taking one of two possible values: `True` or `False`(interchangeable with the integers `1` and `0`). Booleans control the flow of a program and are used to make comparisons, showing that despite the fancy name (nicknamed `bool` in Python) they play an integral role. \n",
    "\n",
    "Boolean data types can be used with `comparison` and `logical` operators: "
   ]
  },
  {
   "cell_type": "markdown",
   "id": "8d2525d7",
   "metadata": {},
   "source": [
    "|Comparison operators |Description |\n",
    "|---|---|\n",
    "|**==** | Equal to |\n",
    "|**!=**  | Not equal to |\n",
    "|**<** | Less than  |\n",
    "|**>**  | Greater than |\n",
    "|**<=** | Less than or equal to|\n",
    "|**>=** | Greater than or equal to  |"
   ]
  },
  {
   "cell_type": "markdown",
   "id": "093036a9",
   "metadata": {},
   "source": [
    "|Logical operators |Description |\n",
    "|---|---|\n",
    "|**and** | True if both are true(`x and y`). This operator is used to check whether both conditions are true.|\n",
    "|**or**  | True if at least one is true (`x or y`). This operator is used to check if either of the conditions is true. |\n",
    "|**not** | True only if false (`not x`). This operator is used to check for inequality.  |\n",
    "\n",
    "These boolean operators will either equate to `True` if the condition is met or `False` if the condition is not met. "
   ]
  },
  {
   "cell_type": "markdown",
   "id": "a78569ec",
   "metadata": {},
   "source": [
    "<b><u>Examples: comparison operators</b></u>\n",
    "\n",
    "Below are some comparison operators that are used to check each condition. Run these cells and let's see what we get!"
   ]
  },
  {
   "cell_type": "code",
   "id": "aa2a6654",
   "metadata": {
    "ExecuteTime": {
     "end_time": "2024-09-17T18:57:48.947450Z",
     "start_time": "2024-09-17T18:57:48.926621Z"
    }
   },
   "source": [
    "5 < 3"
   ],
   "outputs": [
    {
     "data": {
      "text/plain": [
       "False"
      ]
     },
     "execution_count": 16,
     "metadata": {},
     "output_type": "execute_result"
    }
   ],
   "execution_count": 16
  },
  {
   "cell_type": "code",
   "id": "82c263ea",
   "metadata": {
    "ExecuteTime": {
     "end_time": "2024-09-17T18:57:51.694893Z",
     "start_time": "2024-09-17T18:57:51.668164Z"
    }
   },
   "source": [
    "5 > 3"
   ],
   "outputs": [
    {
     "data": {
      "text/plain": [
       "True"
      ]
     },
     "execution_count": 17,
     "metadata": {},
     "output_type": "execute_result"
    }
   ],
   "execution_count": 17
  },
  {
   "cell_type": "code",
   "id": "c5c4c699",
   "metadata": {
    "ExecuteTime": {
     "end_time": "2024-09-17T18:57:54.274105Z",
     "start_time": "2024-09-17T18:57:54.262343Z"
    }
   },
   "source": [
    "1 + 1 == 2"
   ],
   "outputs": [
    {
     "data": {
      "text/plain": [
       "True"
      ]
     },
     "execution_count": 18,
     "metadata": {},
     "output_type": "execute_result"
    }
   ],
   "execution_count": 18
  },
  {
   "cell_type": "code",
   "id": "00486b14",
   "metadata": {
    "ExecuteTime": {
     "end_time": "2024-09-17T18:57:56.115502Z",
     "start_time": "2024-09-17T18:57:56.100209Z"
    }
   },
   "source": [
    "'apples' == 'oranges'"
   ],
   "outputs": [
    {
     "data": {
      "text/plain": [
       "False"
      ]
     },
     "execution_count": 19,
     "metadata": {},
     "output_type": "execute_result"
    }
   ],
   "execution_count": 19
  },
  {
   "cell_type": "markdown",
   "id": "75e7bdfd",
   "metadata": {},
   "source": [
    "<b><u>Examples: logical operators</b></u>\n",
    "\n",
    "Below we will be testing some conditions using logical operators."
   ]
  },
  {
   "cell_type": "code",
   "id": "343f84b8",
   "metadata": {
    "ExecuteTime": {
     "end_time": "2024-09-17T18:58:02.351947Z",
     "start_time": "2024-09-17T18:58:02.339768Z"
    }
   },
   "source": [
    "not 1+1 == 2"
   ],
   "outputs": [
    {
     "data": {
      "text/plain": [
       "False"
      ]
     },
     "execution_count": 20,
     "metadata": {},
     "output_type": "execute_result"
    }
   ],
   "execution_count": 20
  },
  {
   "cell_type": "code",
   "id": "4cfa6cfd",
   "metadata": {
    "ExecuteTime": {
     "end_time": "2024-09-17T18:58:05.376738Z",
     "start_time": "2024-09-17T18:58:05.364223Z"
    }
   },
   "source": [
    "1+1 != 2"
   ],
   "outputs": [
    {
     "data": {
      "text/plain": [
       "False"
      ]
     },
     "execution_count": 21,
     "metadata": {},
     "output_type": "execute_result"
    }
   ],
   "execution_count": 21
  },
  {
   "cell_type": "code",
   "id": "b3e51a1a",
   "metadata": {
    "ExecuteTime": {
     "end_time": "2024-09-17T18:58:07.336010Z",
     "start_time": "2024-09-17T18:58:07.315312Z"
    }
   },
   "source": [
    "'apples' != 'oranges'"
   ],
   "outputs": [
    {
     "data": {
      "text/plain": [
       "True"
      ]
     },
     "execution_count": 22,
     "metadata": {},
     "output_type": "execute_result"
    }
   ],
   "execution_count": 22
  },
  {
   "cell_type": "code",
   "id": "cde751de",
   "metadata": {
    "ExecuteTime": {
     "end_time": "2024-09-17T18:58:09.372666Z",
     "start_time": "2024-09-17T18:58:09.349066Z"
    }
   },
   "source": [
    "4 > 2 and 3 > 5"
   ],
   "outputs": [
    {
     "data": {
      "text/plain": [
       "False"
      ]
     },
     "execution_count": 23,
     "metadata": {},
     "output_type": "execute_result"
    }
   ],
   "execution_count": 23
  },
  {
   "cell_type": "code",
   "id": "d9a62a4c",
   "metadata": {
    "ExecuteTime": {
     "end_time": "2024-09-17T18:58:19.256008Z",
     "start_time": "2024-09-17T18:58:19.231005Z"
    }
   },
   "source": [
    "True and True"
   ],
   "outputs": [
    {
     "data": {
      "text/plain": [
       "True"
      ]
     },
     "execution_count": 24,
     "metadata": {},
     "output_type": "execute_result"
    }
   ],
   "execution_count": 24
  },
  {
   "cell_type": "code",
   "id": "3ab6f0f3",
   "metadata": {
    "ExecuteTime": {
     "end_time": "2024-09-17T18:58:20.462480Z",
     "start_time": "2024-09-17T18:58:20.449273Z"
    }
   },
   "source": [
    "True and False"
   ],
   "outputs": [
    {
     "data": {
      "text/plain": [
       "False"
      ]
     },
     "execution_count": 25,
     "metadata": {},
     "output_type": "execute_result"
    }
   ],
   "execution_count": 25
  },
  {
   "cell_type": "code",
   "id": "c1817bae",
   "metadata": {
    "ExecuteTime": {
     "end_time": "2024-09-17T18:58:22.053387Z",
     "start_time": "2024-09-17T18:58:22.030995Z"
    }
   },
   "source": [
    "False and True"
   ],
   "outputs": [
    {
     "data": {
      "text/plain": [
       "False"
      ]
     },
     "execution_count": 26,
     "metadata": {},
     "output_type": "execute_result"
    }
   ],
   "execution_count": 26
  },
  {
   "cell_type": "code",
   "id": "c3bdd7fb",
   "metadata": {
    "ExecuteTime": {
     "end_time": "2024-09-17T18:58:27.590374Z",
     "start_time": "2024-09-17T18:58:27.570667Z"
    }
   },
   "source": [
    "False and False"
   ],
   "outputs": [
    {
     "data": {
      "text/plain": [
       "False"
      ]
     },
     "execution_count": 27,
     "metadata": {},
     "output_type": "execute_result"
    }
   ],
   "execution_count": 27
  },
  {
   "cell_type": "code",
   "id": "8c71fe17",
   "metadata": {
    "ExecuteTime": {
     "end_time": "2024-09-17T18:58:34.183542Z",
     "start_time": "2024-09-17T18:58:34.159719Z"
    }
   },
   "source": [
    "4 > 2 or 3 > 5"
   ],
   "outputs": [
    {
     "data": {
      "text/plain": [
       "True"
      ]
     },
     "execution_count": 28,
     "metadata": {},
     "output_type": "execute_result"
    }
   ],
   "execution_count": 28
  },
  {
   "cell_type": "code",
   "id": "f27a23cf",
   "metadata": {
    "ExecuteTime": {
     "end_time": "2024-09-17T18:58:35.746567Z",
     "start_time": "2024-09-17T18:58:35.725780Z"
    }
   },
   "source": [
    "True or True"
   ],
   "outputs": [
    {
     "data": {
      "text/plain": [
       "True"
      ]
     },
     "execution_count": 29,
     "metadata": {},
     "output_type": "execute_result"
    }
   ],
   "execution_count": 29
  },
  {
   "cell_type": "code",
   "id": "68dcac39",
   "metadata": {
    "ExecuteTime": {
     "end_time": "2024-09-17T18:58:37.122038Z",
     "start_time": "2024-09-17T18:58:37.109579Z"
    }
   },
   "source": [
    "True or False"
   ],
   "outputs": [
    {
     "data": {
      "text/plain": [
       "True"
      ]
     },
     "execution_count": 30,
     "metadata": {},
     "output_type": "execute_result"
    }
   ],
   "execution_count": 30
  },
  {
   "cell_type": "code",
   "id": "fe861459",
   "metadata": {
    "ExecuteTime": {
     "end_time": "2024-09-17T18:58:39.523334Z",
     "start_time": "2024-09-17T18:58:39.505362Z"
    }
   },
   "source": [
    "False or True"
   ],
   "outputs": [
    {
     "data": {
      "text/plain": [
       "True"
      ]
     },
     "execution_count": 31,
     "metadata": {},
     "output_type": "execute_result"
    }
   ],
   "execution_count": 31
  },
  {
   "cell_type": "code",
   "id": "92b620fc",
   "metadata": {
    "ExecuteTime": {
     "end_time": "2024-09-17T18:58:40.885406Z",
     "start_time": "2024-09-17T18:58:40.874514Z"
    }
   },
   "source": [
    "False or False"
   ],
   "outputs": [
    {
     "data": {
      "text/plain": [
       "False"
      ]
     },
     "execution_count": 32,
     "metadata": {},
     "output_type": "execute_result"
    }
   ],
   "execution_count": 32
  },
  {
   "cell_type": "markdown",
   "id": "236700dc",
   "metadata": {},
   "source": [
    "## Conclusion\n",
    "\n",
    "We have now learned about the primitive data types that exist in Python. We have also learned about built-in functions and methods and how they can be used on the different data types. We now have a good understanding of the use of variables when writing code in Python, as well as how to assign different data types to variables and the naming conventions used for variables. "
   ]
  },
  {
   "cell_type": "markdown",
   "id": "6ba5d7b8",
   "metadata": {},
   "source": [
    "## Appendix\n",
    "\n",
    "- [Built-in types in Python](https://docs.python.org/3/library/stdtypes.html)\n",
    "\n",
    "- [Getting started with data](https://runestone.academy/runestone/books/published/pythonds/Introduction/GettingStartedwithData.html#built-in-atomic-data-types)"
   ]
  },
  {
   "cell_type": "markdown",
   "id": "26fd094b-0fee-46f1-a4b8-73766813c42b",
   "metadata": {
    "tags": []
   },
   "source": [
    "#  \n",
    "\n",
    "<div align=\"center\" style=\" font-size: 80%; text-align: center; margin: 0 auto\">\n",
    "<img src=\"https://raw.githubusercontent.com/Explore-AI/Pictures/master/ExploreAI_logos/EAI_Blue_Dark.png\"  style=\"width:200px\";/>\n",
    "</div>"
   ]
  }
 ],
 "metadata": {
  "kernelspec": {
   "display_name": "Python 3 (ipykernel)",
   "language": "python",
   "name": "python3"
  },
  "language_info": {
   "codemirror_mode": {
    "name": "ipython",
    "version": 3
   },
   "file_extension": ".py",
   "mimetype": "text/x-python",
   "name": "python",
   "nbconvert_exporter": "python",
   "pygments_lexer": "ipython3",
   "version": "3.11.4"
  }
 },
 "nbformat": 4,
 "nbformat_minor": 5
}
